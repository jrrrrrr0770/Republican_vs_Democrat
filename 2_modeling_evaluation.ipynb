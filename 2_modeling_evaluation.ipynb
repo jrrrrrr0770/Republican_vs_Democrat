{
 "cells": [
  {
   "cell_type": "markdown",
   "id": "4ceb70bc-ed52-4533-bd09-a5e361a3d057",
   "metadata": {},
   "source": [
    "## 2.  Modeling and Evaluation"
   ]
  },
  {
   "cell_type": "code",
   "execution_count": 1,
   "id": "7b898afb-e4f7-4a1b-9aab-a1a6192a8b44",
   "metadata": {
    "tags": []
   },
   "outputs": [],
   "source": [
    "# Import libraries\n",
    "\n",
    "import pandas as pd\n",
    "import numpy as np\n",
    "import seaborn as sns\n",
    "import matplotlib.pyplot as plt\n",
    "from sklearn.model_selection import train_test_split, cross_validate, GridSearchCV\n",
    "from sklearn.pipeline import Pipeline\n",
    "from sklearn.feature_extraction.text import CountVectorizer, TfidfVectorizer\n",
    "from sklearn.linear_model import LogisticRegression\n",
    "from sklearn.naive_bayes import MultinomialNB\n",
    "from sklearn.ensemble import RandomForestClassifier\n",
    "from sklearn.compose import ColumnTransformer, make_column_transformer\n",
    "from sklearn.preprocessing import OneHotEncoder, StandardScaler\n",
    "from mlxtend.preprocessing import DenseTransformer\n",
    "from sklearn.metrics import (confusion_matrix, ConfusionMatrixDisplay,\n",
    "    accuracy_score, roc_auc_score, recall_score,\n",
    "    precision_score, f1_score, classification_report, RocCurveDisplay)\n",
    "\n",
    "# DenseTransformer Source: https://rasbt.github.io/mlxtend/user_guide/preprocessing/DenseTransformer/"
   ]
  },
  {
   "cell_type": "code",
   "execution_count": 2,
   "id": "d3c21e98-fada-40cb-8f22-648237bb0e0e",
   "metadata": {
    "tags": []
   },
   "outputs": [
    {
     "data": {
      "text/html": [
       "<div>\n",
       "<style scoped>\n",
       "    .dataframe tbody tr th:only-of-type {\n",
       "        vertical-align: middle;\n",
       "    }\n",
       "\n",
       "    .dataframe tbody tr th {\n",
       "        vertical-align: top;\n",
       "    }\n",
       "\n",
       "    .dataframe thead th {\n",
       "        text-align: right;\n",
       "    }\n",
       "</style>\n",
       "<table border=\"1\" class=\"dataframe\">\n",
       "  <thead>\n",
       "    <tr style=\"text-align: right;\">\n",
       "      <th></th>\n",
       "      <th>title</th>\n",
       "      <th>domain</th>\n",
       "      <th>author</th>\n",
       "      <th>upvote_ratio</th>\n",
       "      <th>id</th>\n",
       "      <th>created_utc</th>\n",
       "      <th>subreddit</th>\n",
       "    </tr>\n",
       "  </thead>\n",
       "  <tbody>\n",
       "    <tr>\n",
       "      <th>0</th>\n",
       "      <td>Taylor Swift could save Joe Biden in 2024. No,...</td>\n",
       "      <td>msnbc.com</td>\n",
       "      <td>Gamecat93</td>\n",
       "      <td>0.92</td>\n",
       "      <td>18y4ejv</td>\n",
       "      <td>Wed Jan  3 20:38:17 2024</td>\n",
       "      <td>democrats</td>\n",
       "    </tr>\n",
       "    <tr>\n",
       "      <th>1</th>\n",
       "      <td>The Polls Prove It: Many Republicans Love Fascism</td>\n",
       "      <td>newrepublic.com</td>\n",
       "      <td>audiomuse1</td>\n",
       "      <td>0.93</td>\n",
       "      <td>18y3f93</td>\n",
       "      <td>Wed Jan  3 19:48:29 2024</td>\n",
       "      <td>democrats</td>\n",
       "    </tr>\n",
       "    <tr>\n",
       "      <th>2</th>\n",
       "      <td>A Far-Right Court Just Admitted a Truth That A...</td>\n",
       "      <td>slate.com</td>\n",
       "      <td>wenchette</td>\n",
       "      <td>0.97</td>\n",
       "      <td>18xxec5</td>\n",
       "      <td>Wed Jan  3 15:19:27 2024</td>\n",
       "      <td>democrats</td>\n",
       "    </tr>\n",
       "    <tr>\n",
       "      <th>3</th>\n",
       "      <td>Trump Asks Supreme Court to Keep Him on Colora...</td>\n",
       "      <td>nytimes.com</td>\n",
       "      <td>StandStillLaddie</td>\n",
       "      <td>0.92</td>\n",
       "      <td>18xw4gq</td>\n",
       "      <td>Wed Jan  3 14:28:20 2024</td>\n",
       "      <td>democrats</td>\n",
       "    </tr>\n",
       "    <tr>\n",
       "      <th>4</th>\n",
       "      <td>Donald Trump \"missing\" from Nevada ballot enra...</td>\n",
       "      <td>newsweek.com</td>\n",
       "      <td>vincevega87</td>\n",
       "      <td>0.98</td>\n",
       "      <td>18y80vn</td>\n",
       "      <td>Thu Jan  4 00:13:25 2024</td>\n",
       "      <td>democrats</td>\n",
       "    </tr>\n",
       "  </tbody>\n",
       "</table>\n",
       "</div>"
      ],
      "text/plain": [
       "                                               title           domain  \\\n",
       "0  Taylor Swift could save Joe Biden in 2024. No,...        msnbc.com   \n",
       "1  The Polls Prove It: Many Republicans Love Fascism  newrepublic.com   \n",
       "2  A Far-Right Court Just Admitted a Truth That A...        slate.com   \n",
       "3  Trump Asks Supreme Court to Keep Him on Colora...      nytimes.com   \n",
       "4  Donald Trump \"missing\" from Nevada ballot enra...     newsweek.com   \n",
       "\n",
       "             author  upvote_ratio       id               created_utc  \\\n",
       "0         Gamecat93          0.92  18y4ejv  Wed Jan  3 20:38:17 2024   \n",
       "1        audiomuse1          0.93  18y3f93  Wed Jan  3 19:48:29 2024   \n",
       "2         wenchette          0.97  18xxec5  Wed Jan  3 15:19:27 2024   \n",
       "3  StandStillLaddie          0.92  18xw4gq  Wed Jan  3 14:28:20 2024   \n",
       "4       vincevega87          0.98  18y80vn  Thu Jan  4 00:13:25 2024   \n",
       "\n",
       "   subreddit  \n",
       "0  democrats  \n",
       "1  democrats  \n",
       "2  democrats  \n",
       "3  democrats  \n",
       "4  democrats  "
      ]
     },
     "execution_count": 2,
     "metadata": {},
     "output_type": "execute_result"
    }
   ],
   "source": [
    "# Read in data scraped from Reddit\n",
    "\n",
    "dvr = pd.read_csv('./datasets/rep_vs_dem.csv')\n",
    "dvr.drop(columns = 'Unnamed: 0', inplace = True)\n",
    "dvr.head()"
   ]
  },
  {
   "cell_type": "code",
   "execution_count": 3,
   "id": "65837798-3f58-4522-b028-786a82e35d44",
   "metadata": {},
   "outputs": [],
   "source": [
    "# Create X and y variables\n",
    "\n",
    "X = dvr['title']\n",
    "y = dvr['subreddit']"
   ]
  },
  {
   "cell_type": "code",
   "execution_count": 4,
   "id": "c39907a8-c4a2-4309-a034-27d01eb44824",
   "metadata": {
    "tags": []
   },
   "outputs": [
    {
     "data": {
      "text/plain": [
       "subreddit\n",
       "Republican    0.513898\n",
       "democrats     0.486102\n",
       "Name: proportion, dtype: float64"
      ]
     },
     "execution_count": 4,
     "metadata": {},
     "output_type": "execute_result"
    }
   ],
   "source": [
    "# Calculate baseline \n",
    "\n",
    "y.value_counts(normalize = True)"
   ]
  },
  {
   "cell_type": "code",
   "execution_count": 5,
   "id": "47a6332e-8d57-46fa-a8dd-5893367247ca",
   "metadata": {
    "tags": []
   },
   "outputs": [],
   "source": [
    "# Split data into test and train sets\n",
    "# Target classes are balanced, no need to stratify\n",
    "# Utilizing default training size of 0.75 due to relatively small data set\n",
    "\n",
    "X_train, X_test, y_train, y_test = train_test_split(X, y, random_state =42)"
   ]
  },
  {
   "cell_type": "code",
   "execution_count": 6,
   "id": "69639bd0-0fe8-4e47-add4-40d92c17f667",
   "metadata": {
    "tags": []
   },
   "outputs": [
    {
     "data": {
      "text/plain": [
       "(1106,)"
      ]
     },
     "execution_count": 6,
     "metadata": {},
     "output_type": "execute_result"
    }
   ],
   "source": [
    "X_train.shape"
   ]
  },
  {
   "cell_type": "code",
   "execution_count": 7,
   "id": "9e58f5a7-6f86-418e-be09-abe60017b2f0",
   "metadata": {
    "tags": []
   },
   "outputs": [
    {
     "data": {
      "text/plain": [
       "(1106,)"
      ]
     },
     "execution_count": 7,
     "metadata": {},
     "output_type": "execute_result"
    }
   ],
   "source": [
    "y_train.shape"
   ]
  },
  {
   "cell_type": "markdown",
   "id": "b38b535c-ae4e-4cf5-858d-ef6f40dde406",
   "metadata": {},
   "source": [
    "# Modeling\n",
    "Evaluate three models (Logistic Regression, Naive-Bayes Multinomial, Random Forest) with CountVectorizer and TfidVectorizer transformers, adjusting hyperparameters as required, to identify the best pipeline for production use."
   ]
  },
  {
   "cell_type": "code",
   "execution_count": 8,
   "id": "fe47938e-7fdc-4432-94a1-a5c95b94b56f",
   "metadata": {
    "tags": []
   },
   "outputs": [],
   "source": [
    "# Instantiate pipelines \n",
    "\n",
    "# CountVectorizer Logistic Regression pipeline\n",
    "cv_lr_pipe = Pipeline([\n",
    "    ('cvec', CountVectorizer()),\n",
    "    ('to_dense', DenseTransformer()),\n",
    "    ('logr', LogisticRegression())\n",
    "])\n",
    "\n",
    "# CountVectorizer MultinomialNB pipeline\n",
    "cv_nb_pipe = Pipeline([\n",
    "    ('cvec', CountVectorizer()),\n",
    "    ('to_dense', DenseTransformer()),\n",
    "    ('nb', MultinomialNB())\n",
    "])\n",
    "\n",
    "# CountVectorizer RandomForest pipeline\n",
    "cv_rf_pipe = Pipeline([\n",
    "    ('cvec', CountVectorizer()),\n",
    "    ('to_dense', DenseTransformer()),\n",
    "    ('rf', RandomForestClassifier())\n",
    "])\n",
    "\n",
    "# TfidVectorizer Logistic Regression pipeline\n",
    "tf_lr_pipe = Pipeline([\n",
    "    ('tvec', TfidfVectorizer()),\n",
    "    ('to_dense', DenseTransformer()),\n",
    "    ('logr', LogisticRegression())\n",
    "])\n",
    "\n",
    "# TfidVectorizer MultinomialNB pipeline\n",
    "tf_nb_pipe = Pipeline([\n",
    "    ('tvec', TfidfVectorizer()),\n",
    "    ('to_dense', DenseTransformer()),\n",
    "    ('nb', MultinomialNB())\n",
    "])\n",
    "\n",
    "# TfidVectorizer RandomForest pipeline\n",
    "tf_rf_pipe = Pipeline([\n",
    "    ('tvec', TfidfVectorizer()),\n",
    "    ('to_dense', DenseTransformer()),\n",
    "    ('rf', RandomForestClassifier())\n",
    "])"
   ]
  },
  {
   "cell_type": "code",
   "execution_count": 9,
   "id": "56b57de2-0019-45b9-b895-ef00976776c7",
   "metadata": {
    "tags": []
   },
   "outputs": [],
   "source": [
    "# Set parameters for each pipeline\n",
    "\n",
    "# CountVectorizer Logistic Regression pipeline parameters\n",
    "cv_lr_pipe_params = {\n",
    "    'cvec__stop_words': [None, 'english'],\n",
    "    'cvec__max_features': [2500, 3000, 3500],\n",
    "    'cvec__min_df': [2],\n",
    "    'cvec__ngram_range': [(1, 2), (1, 3), (1, 4)],\n",
    "    'logr__C': [0.3, 0.5, 0.7],\n",
    "    'logr__penalty': ['l1', 'l2']\n",
    "}\n",
    "\n",
    "# CountVectorizer MultinomialNB pipeline parameters\n",
    "cv_nb_pipe_params = {\n",
    "    'cvec__stop_words': [None, 'english'],\n",
    "    'cvec__max_features': [2500, 3000, 3500],\n",
    "    'cvec__min_df': [2],\n",
    "    'cvec__ngram_range': [(1, 2), (1, 3), (1, 4)],\n",
    "    'nb__alpha': [1.0, 2.0, 3.0]\n",
    "}\n",
    "\n",
    "# CountVectorizer RandomForest pipeline parameters\n",
    "cv_rf_pipe_params = {\n",
    "    'cvec__stop_words': [None, 'english'],\n",
    "    'cvec__max_features': [2500, 3000, 3500],\n",
    "    'cvec__min_df': [2],\n",
    "    'cvec__ngram_range': [(1, 2), (1, 3), (1, 4)],\n",
    "    'rf__n_estimators': [50, 100, 150],\n",
    "    'rf__max_depth': [None, 10]\n",
    "}\n",
    "\n",
    "# TfidVectorizer Logistic Regression pipeline parameters\n",
    "tf_lr_pipe_params = {\n",
    "    'tvec__stop_words': [None, 'english'],\n",
    "    'tvec__max_features': [2500, 3000, 3500],\n",
    "    'tvec__min_df': [2],\n",
    "    'tvec__ngram_range': [(1, 2), (1, 3), (1, 4)],\n",
    "    'logr__C': [0.3, 0.5, 0.7],\n",
    "    'logr__penalty': ['l1', 'l2']\n",
    "}\n",
    "\n",
    "# TfidVectorizer MultinomialNB pipeline parameters\n",
    "tf_nb_pipe_params = {\n",
    "    'tvec__stop_words': [None, 'english'],\n",
    "    'tvec__max_features': [2500, 3000, 3500],\n",
    "    'tvec__min_df': [2],\n",
    "    'tvec__ngram_range': [(1, 2), (1, 3), (1, 4)],\n",
    "    'nb__alpha': [1.0, 2.0, 3.0]\n",
    "}\n",
    "\n",
    "# TfidVectorizer RandomForest pipeline parameters\n",
    "tf_rf_pipe_params = {\n",
    "    'tvec__stop_words': [None, 'english'],\n",
    "    'tvec__max_features': [2500, 3000, 3500],\n",
    "    'tvec__min_df': [2],\n",
    "    'tvec__ngram_range': [(1, 2), (1, 3), (1, 4)],\n",
    "    'rf__n_estimators': [50, 100, 150],\n",
    "    'rf__max_depth': [None, 10]\n",
    "}"
   ]
  },
  {
   "cell_type": "markdown",
   "id": "aecc647d-0b1b-4070-8ae9-87d7a55baf51",
   "metadata": {},
   "source": [
    "## Instantiate GridSearchCV objects"
   ]
  },
  {
   "cell_type": "code",
   "execution_count": 10,
   "id": "49e87c8b-4414-4353-b02e-eb9775ac7dfe",
   "metadata": {
    "tags": []
   },
   "outputs": [],
   "source": [
    "cv_lr_gs = GridSearchCV(cv_lr_pipe,\n",
    "                       cv_lr_pipe_params,\n",
    "                       cv = 5)\n",
    "\n",
    "cv_nb_gs = GridSearchCV(cv_nb_pipe,\n",
    "                       cv_nb_pipe_params,\n",
    "                       cv = 5)\n",
    "\n",
    "cv_rf_gs = GridSearchCV(cv_rf_pipe,\n",
    "                       cv_rf_pipe_params,\n",
    "                       cv = 5)\n",
    "\n",
    "tf_lr_gs = GridSearchCV(tf_lr_pipe,\n",
    "                       tf_lr_pipe_params,\n",
    "                       cv = 5)\n",
    "\n",
    "tf_nb_gs = GridSearchCV(tf_nb_pipe,\n",
    "                       tf_nb_pipe_params,\n",
    "                       cv = 5)\n",
    "\n",
    "tf_rf_gs = GridSearchCV(tf_rf_pipe,\n",
    "                       tf_rf_pipe_params,\n",
    "                       cv = 5)"
   ]
  },
  {
   "cell_type": "markdown",
   "id": "834dae1d-b1ef-487a-a436-d4ee1ebd6ad2",
   "metadata": {
    "tags": []
   },
   "source": [
    "## Fit train data to each gridsearch"
   ]
  },
  {
   "cell_type": "code",
   "execution_count": 11,
   "id": "70e8bb5c-9e26-40ea-a66b-30148dd6aabf",
   "metadata": {
    "scrolled": true,
    "tags": []
   },
   "outputs": [
    {
     "name": "stderr",
     "output_type": "stream",
     "text": [
      "/Users/JR/anaconda3/lib/python3.11/site-packages/sklearn/model_selection/_validation.py:425: FitFailedWarning: \n",
      "270 fits failed out of a total of 540.\n",
      "The score on these train-test partitions for these parameters will be set to nan.\n",
      "If these failures are not expected, you can try to debug them by setting error_score='raise'.\n",
      "\n",
      "Below are more details about the failures:\n",
      "--------------------------------------------------------------------------------\n",
      "270 fits failed with the following error:\n",
      "Traceback (most recent call last):\n",
      "  File \"/Users/JR/anaconda3/lib/python3.11/site-packages/sklearn/model_selection/_validation.py\", line 732, in _fit_and_score\n",
      "    estimator.fit(X_train, y_train, **fit_params)\n",
      "  File \"/Users/JR/anaconda3/lib/python3.11/site-packages/sklearn/base.py\", line 1151, in wrapper\n",
      "    return fit_method(estimator, *args, **kwargs)\n",
      "           ^^^^^^^^^^^^^^^^^^^^^^^^^^^^^^^^^^^^^^\n",
      "  File \"/Users/JR/anaconda3/lib/python3.11/site-packages/sklearn/pipeline.py\", line 420, in fit\n",
      "    self._final_estimator.fit(Xt, y, **fit_params_last_step)\n",
      "  File \"/Users/JR/anaconda3/lib/python3.11/site-packages/sklearn/base.py\", line 1151, in wrapper\n",
      "    return fit_method(estimator, *args, **kwargs)\n",
      "           ^^^^^^^^^^^^^^^^^^^^^^^^^^^^^^^^^^^^^^\n",
      "  File \"/Users/JR/anaconda3/lib/python3.11/site-packages/sklearn/linear_model/_logistic.py\", line 1168, in fit\n",
      "    solver = _check_solver(self.solver, self.penalty, self.dual)\n",
      "             ^^^^^^^^^^^^^^^^^^^^^^^^^^^^^^^^^^^^^^^^^^^^^^^^^^^\n",
      "  File \"/Users/JR/anaconda3/lib/python3.11/site-packages/sklearn/linear_model/_logistic.py\", line 56, in _check_solver\n",
      "    raise ValueError(\n",
      "ValueError: Solver lbfgs supports only 'l2' or 'none' penalties, got l1 penalty.\n",
      "\n",
      "  warnings.warn(some_fits_failed_message, FitFailedWarning)\n",
      "/Users/JR/anaconda3/lib/python3.11/site-packages/sklearn/model_selection/_search.py:976: UserWarning: One or more of the test scores are non-finite: [       nan 0.74503689        nan 0.74592964        nan 0.75135543\n",
      "        nan 0.74140883        nan 0.72875138        nan 0.72332151\n",
      "        nan 0.74413191        nan 0.74502874        nan 0.74230973\n",
      "        nan 0.74231381        nan 0.72875545        nan 0.72423057\n",
      "        nan 0.74412784        nan 0.74592964        nan 0.74502059\n",
      "        nan 0.74140883        nan 0.72875545        nan 0.72242469\n",
      "        nan 0.74503689        nan 0.74592964        nan 0.75135543\n",
      "        nan 0.74140883        nan 0.72875138        nan 0.72332151\n",
      "        nan 0.74413191        nan 0.74502874        nan 0.74230973\n",
      "        nan 0.74231381        nan 0.72875545        nan 0.72423057\n",
      "        nan 0.74323101        nan 0.74321878        nan 0.74321471\n",
      "        nan 0.74140883        nan 0.72875545        nan 0.72242469\n",
      "        nan 0.74503689        nan 0.74592964        nan 0.75135543\n",
      "        nan 0.74140883        nan 0.72875138        nan 0.72332151\n",
      "        nan 0.74413191        nan 0.74502874        nan 0.74230973\n",
      "        nan 0.74231381        nan 0.72875545        nan 0.72423057\n",
      "        nan 0.74323101        nan 0.74321878        nan 0.74321471\n",
      "        nan 0.74140883        nan 0.72875545        nan 0.72242469]\n",
      "  warnings.warn(\n"
     ]
    },
    {
     "data": {
      "text/html": [
       "<style>#sk-container-id-1 {color: black;}#sk-container-id-1 pre{padding: 0;}#sk-container-id-1 div.sk-toggleable {background-color: white;}#sk-container-id-1 label.sk-toggleable__label {cursor: pointer;display: block;width: 100%;margin-bottom: 0;padding: 0.3em;box-sizing: border-box;text-align: center;}#sk-container-id-1 label.sk-toggleable__label-arrow:before {content: \"▸\";float: left;margin-right: 0.25em;color: #696969;}#sk-container-id-1 label.sk-toggleable__label-arrow:hover:before {color: black;}#sk-container-id-1 div.sk-estimator:hover label.sk-toggleable__label-arrow:before {color: black;}#sk-container-id-1 div.sk-toggleable__content {max-height: 0;max-width: 0;overflow: hidden;text-align: left;background-color: #f0f8ff;}#sk-container-id-1 div.sk-toggleable__content pre {margin: 0.2em;color: black;border-radius: 0.25em;background-color: #f0f8ff;}#sk-container-id-1 input.sk-toggleable__control:checked~div.sk-toggleable__content {max-height: 200px;max-width: 100%;overflow: auto;}#sk-container-id-1 input.sk-toggleable__control:checked~label.sk-toggleable__label-arrow:before {content: \"▾\";}#sk-container-id-1 div.sk-estimator input.sk-toggleable__control:checked~label.sk-toggleable__label {background-color: #d4ebff;}#sk-container-id-1 div.sk-label input.sk-toggleable__control:checked~label.sk-toggleable__label {background-color: #d4ebff;}#sk-container-id-1 input.sk-hidden--visually {border: 0;clip: rect(1px 1px 1px 1px);clip: rect(1px, 1px, 1px, 1px);height: 1px;margin: -1px;overflow: hidden;padding: 0;position: absolute;width: 1px;}#sk-container-id-1 div.sk-estimator {font-family: monospace;background-color: #f0f8ff;border: 1px dotted black;border-radius: 0.25em;box-sizing: border-box;margin-bottom: 0.5em;}#sk-container-id-1 div.sk-estimator:hover {background-color: #d4ebff;}#sk-container-id-1 div.sk-parallel-item::after {content: \"\";width: 100%;border-bottom: 1px solid gray;flex-grow: 1;}#sk-container-id-1 div.sk-label:hover label.sk-toggleable__label {background-color: #d4ebff;}#sk-container-id-1 div.sk-serial::before {content: \"\";position: absolute;border-left: 1px solid gray;box-sizing: border-box;top: 0;bottom: 0;left: 50%;z-index: 0;}#sk-container-id-1 div.sk-serial {display: flex;flex-direction: column;align-items: center;background-color: white;padding-right: 0.2em;padding-left: 0.2em;position: relative;}#sk-container-id-1 div.sk-item {position: relative;z-index: 1;}#sk-container-id-1 div.sk-parallel {display: flex;align-items: stretch;justify-content: center;background-color: white;position: relative;}#sk-container-id-1 div.sk-item::before, #sk-container-id-1 div.sk-parallel-item::before {content: \"\";position: absolute;border-left: 1px solid gray;box-sizing: border-box;top: 0;bottom: 0;left: 50%;z-index: -1;}#sk-container-id-1 div.sk-parallel-item {display: flex;flex-direction: column;z-index: 1;position: relative;background-color: white;}#sk-container-id-1 div.sk-parallel-item:first-child::after {align-self: flex-end;width: 50%;}#sk-container-id-1 div.sk-parallel-item:last-child::after {align-self: flex-start;width: 50%;}#sk-container-id-1 div.sk-parallel-item:only-child::after {width: 0;}#sk-container-id-1 div.sk-dashed-wrapped {border: 1px dashed gray;margin: 0 0.4em 0.5em 0.4em;box-sizing: border-box;padding-bottom: 0.4em;background-color: white;}#sk-container-id-1 div.sk-label label {font-family: monospace;font-weight: bold;display: inline-block;line-height: 1.2em;}#sk-container-id-1 div.sk-label-container {text-align: center;}#sk-container-id-1 div.sk-container {/* jupyter's `normalize.less` sets `[hidden] { display: none; }` but bootstrap.min.css set `[hidden] { display: none !important; }` so we also need the `!important` here to be able to override the default hidden behavior on the sphinx rendered scikit-learn.org. See: https://github.com/scikit-learn/scikit-learn/issues/21755 */display: inline-block !important;position: relative;}#sk-container-id-1 div.sk-text-repr-fallback {display: none;}</style><div id=\"sk-container-id-1\" class=\"sk-top-container\"><div class=\"sk-text-repr-fallback\"><pre>GridSearchCV(cv=5,\n",
       "             estimator=Pipeline(steps=[(&#x27;cvec&#x27;, CountVectorizer()),\n",
       "                                       (&#x27;to_dense&#x27;, DenseTransformer()),\n",
       "                                       (&#x27;logr&#x27;, LogisticRegression())]),\n",
       "             param_grid={&#x27;cvec__max_features&#x27;: [2500, 3000, 3500],\n",
       "                         &#x27;cvec__min_df&#x27;: [2],\n",
       "                         &#x27;cvec__ngram_range&#x27;: [(1, 2), (1, 3), (1, 4)],\n",
       "                         &#x27;cvec__stop_words&#x27;: [None, &#x27;english&#x27;],\n",
       "                         &#x27;logr__C&#x27;: [0.3, 0.5, 0.7],\n",
       "                         &#x27;logr__penalty&#x27;: [&#x27;l1&#x27;, &#x27;l2&#x27;]})</pre><b>In a Jupyter environment, please rerun this cell to show the HTML representation or trust the notebook. <br />On GitHub, the HTML representation is unable to render, please try loading this page with nbviewer.org.</b></div><div class=\"sk-container\" hidden><div class=\"sk-item sk-dashed-wrapped\"><div class=\"sk-label-container\"><div class=\"sk-label sk-toggleable\"><input class=\"sk-toggleable__control sk-hidden--visually\" id=\"sk-estimator-id-1\" type=\"checkbox\" ><label for=\"sk-estimator-id-1\" class=\"sk-toggleable__label sk-toggleable__label-arrow\">GridSearchCV</label><div class=\"sk-toggleable__content\"><pre>GridSearchCV(cv=5,\n",
       "             estimator=Pipeline(steps=[(&#x27;cvec&#x27;, CountVectorizer()),\n",
       "                                       (&#x27;to_dense&#x27;, DenseTransformer()),\n",
       "                                       (&#x27;logr&#x27;, LogisticRegression())]),\n",
       "             param_grid={&#x27;cvec__max_features&#x27;: [2500, 3000, 3500],\n",
       "                         &#x27;cvec__min_df&#x27;: [2],\n",
       "                         &#x27;cvec__ngram_range&#x27;: [(1, 2), (1, 3), (1, 4)],\n",
       "                         &#x27;cvec__stop_words&#x27;: [None, &#x27;english&#x27;],\n",
       "                         &#x27;logr__C&#x27;: [0.3, 0.5, 0.7],\n",
       "                         &#x27;logr__penalty&#x27;: [&#x27;l1&#x27;, &#x27;l2&#x27;]})</pre></div></div></div><div class=\"sk-parallel\"><div class=\"sk-parallel-item\"><div class=\"sk-item\"><div class=\"sk-label-container\"><div class=\"sk-label sk-toggleable\"><input class=\"sk-toggleable__control sk-hidden--visually\" id=\"sk-estimator-id-2\" type=\"checkbox\" ><label for=\"sk-estimator-id-2\" class=\"sk-toggleable__label sk-toggleable__label-arrow\">estimator: Pipeline</label><div class=\"sk-toggleable__content\"><pre>Pipeline(steps=[(&#x27;cvec&#x27;, CountVectorizer()), (&#x27;to_dense&#x27;, DenseTransformer()),\n",
       "                (&#x27;logr&#x27;, LogisticRegression())])</pre></div></div></div><div class=\"sk-serial\"><div class=\"sk-item\"><div class=\"sk-serial\"><div class=\"sk-item\"><div class=\"sk-estimator sk-toggleable\"><input class=\"sk-toggleable__control sk-hidden--visually\" id=\"sk-estimator-id-3\" type=\"checkbox\" ><label for=\"sk-estimator-id-3\" class=\"sk-toggleable__label sk-toggleable__label-arrow\">CountVectorizer</label><div class=\"sk-toggleable__content\"><pre>CountVectorizer()</pre></div></div></div><div class=\"sk-item\"><div class=\"sk-estimator sk-toggleable\"><input class=\"sk-toggleable__control sk-hidden--visually\" id=\"sk-estimator-id-4\" type=\"checkbox\" ><label for=\"sk-estimator-id-4\" class=\"sk-toggleable__label sk-toggleable__label-arrow\">DenseTransformer</label><div class=\"sk-toggleable__content\"><pre>DenseTransformer()</pre></div></div></div><div class=\"sk-item\"><div class=\"sk-estimator sk-toggleable\"><input class=\"sk-toggleable__control sk-hidden--visually\" id=\"sk-estimator-id-5\" type=\"checkbox\" ><label for=\"sk-estimator-id-5\" class=\"sk-toggleable__label sk-toggleable__label-arrow\">LogisticRegression</label><div class=\"sk-toggleable__content\"><pre>LogisticRegression()</pre></div></div></div></div></div></div></div></div></div></div></div></div>"
      ],
      "text/plain": [
       "GridSearchCV(cv=5,\n",
       "             estimator=Pipeline(steps=[('cvec', CountVectorizer()),\n",
       "                                       ('to_dense', DenseTransformer()),\n",
       "                                       ('logr', LogisticRegression())]),\n",
       "             param_grid={'cvec__max_features': [2500, 3000, 3500],\n",
       "                         'cvec__min_df': [2],\n",
       "                         'cvec__ngram_range': [(1, 2), (1, 3), (1, 4)],\n",
       "                         'cvec__stop_words': [None, 'english'],\n",
       "                         'logr__C': [0.3, 0.5, 0.7],\n",
       "                         'logr__penalty': ['l1', 'l2']})"
      ]
     },
     "execution_count": 11,
     "metadata": {},
     "output_type": "execute_result"
    }
   ],
   "source": [
    "cv_lr_gs.fit(X_train, y_train)"
   ]
  },
  {
   "cell_type": "code",
   "execution_count": 12,
   "id": "8c440e82-67f5-423d-95d5-ab0972355028",
   "metadata": {
    "tags": []
   },
   "outputs": [
    {
     "data": {
      "text/html": [
       "<style>#sk-container-id-2 {color: black;}#sk-container-id-2 pre{padding: 0;}#sk-container-id-2 div.sk-toggleable {background-color: white;}#sk-container-id-2 label.sk-toggleable__label {cursor: pointer;display: block;width: 100%;margin-bottom: 0;padding: 0.3em;box-sizing: border-box;text-align: center;}#sk-container-id-2 label.sk-toggleable__label-arrow:before {content: \"▸\";float: left;margin-right: 0.25em;color: #696969;}#sk-container-id-2 label.sk-toggleable__label-arrow:hover:before {color: black;}#sk-container-id-2 div.sk-estimator:hover label.sk-toggleable__label-arrow:before {color: black;}#sk-container-id-2 div.sk-toggleable__content {max-height: 0;max-width: 0;overflow: hidden;text-align: left;background-color: #f0f8ff;}#sk-container-id-2 div.sk-toggleable__content pre {margin: 0.2em;color: black;border-radius: 0.25em;background-color: #f0f8ff;}#sk-container-id-2 input.sk-toggleable__control:checked~div.sk-toggleable__content {max-height: 200px;max-width: 100%;overflow: auto;}#sk-container-id-2 input.sk-toggleable__control:checked~label.sk-toggleable__label-arrow:before {content: \"▾\";}#sk-container-id-2 div.sk-estimator input.sk-toggleable__control:checked~label.sk-toggleable__label {background-color: #d4ebff;}#sk-container-id-2 div.sk-label input.sk-toggleable__control:checked~label.sk-toggleable__label {background-color: #d4ebff;}#sk-container-id-2 input.sk-hidden--visually {border: 0;clip: rect(1px 1px 1px 1px);clip: rect(1px, 1px, 1px, 1px);height: 1px;margin: -1px;overflow: hidden;padding: 0;position: absolute;width: 1px;}#sk-container-id-2 div.sk-estimator {font-family: monospace;background-color: #f0f8ff;border: 1px dotted black;border-radius: 0.25em;box-sizing: border-box;margin-bottom: 0.5em;}#sk-container-id-2 div.sk-estimator:hover {background-color: #d4ebff;}#sk-container-id-2 div.sk-parallel-item::after {content: \"\";width: 100%;border-bottom: 1px solid gray;flex-grow: 1;}#sk-container-id-2 div.sk-label:hover label.sk-toggleable__label {background-color: #d4ebff;}#sk-container-id-2 div.sk-serial::before {content: \"\";position: absolute;border-left: 1px solid gray;box-sizing: border-box;top: 0;bottom: 0;left: 50%;z-index: 0;}#sk-container-id-2 div.sk-serial {display: flex;flex-direction: column;align-items: center;background-color: white;padding-right: 0.2em;padding-left: 0.2em;position: relative;}#sk-container-id-2 div.sk-item {position: relative;z-index: 1;}#sk-container-id-2 div.sk-parallel {display: flex;align-items: stretch;justify-content: center;background-color: white;position: relative;}#sk-container-id-2 div.sk-item::before, #sk-container-id-2 div.sk-parallel-item::before {content: \"\";position: absolute;border-left: 1px solid gray;box-sizing: border-box;top: 0;bottom: 0;left: 50%;z-index: -1;}#sk-container-id-2 div.sk-parallel-item {display: flex;flex-direction: column;z-index: 1;position: relative;background-color: white;}#sk-container-id-2 div.sk-parallel-item:first-child::after {align-self: flex-end;width: 50%;}#sk-container-id-2 div.sk-parallel-item:last-child::after {align-self: flex-start;width: 50%;}#sk-container-id-2 div.sk-parallel-item:only-child::after {width: 0;}#sk-container-id-2 div.sk-dashed-wrapped {border: 1px dashed gray;margin: 0 0.4em 0.5em 0.4em;box-sizing: border-box;padding-bottom: 0.4em;background-color: white;}#sk-container-id-2 div.sk-label label {font-family: monospace;font-weight: bold;display: inline-block;line-height: 1.2em;}#sk-container-id-2 div.sk-label-container {text-align: center;}#sk-container-id-2 div.sk-container {/* jupyter's `normalize.less` sets `[hidden] { display: none; }` but bootstrap.min.css set `[hidden] { display: none !important; }` so we also need the `!important` here to be able to override the default hidden behavior on the sphinx rendered scikit-learn.org. See: https://github.com/scikit-learn/scikit-learn/issues/21755 */display: inline-block !important;position: relative;}#sk-container-id-2 div.sk-text-repr-fallback {display: none;}</style><div id=\"sk-container-id-2\" class=\"sk-top-container\"><div class=\"sk-text-repr-fallback\"><pre>GridSearchCV(cv=5,\n",
       "             estimator=Pipeline(steps=[(&#x27;cvec&#x27;, CountVectorizer()),\n",
       "                                       (&#x27;to_dense&#x27;, DenseTransformer()),\n",
       "                                       (&#x27;nb&#x27;, MultinomialNB())]),\n",
       "             param_grid={&#x27;cvec__max_features&#x27;: [2500, 3000, 3500],\n",
       "                         &#x27;cvec__min_df&#x27;: [2],\n",
       "                         &#x27;cvec__ngram_range&#x27;: [(1, 2), (1, 3), (1, 4)],\n",
       "                         &#x27;cvec__stop_words&#x27;: [None, &#x27;english&#x27;],\n",
       "                         &#x27;nb__alpha&#x27;: [1.0, 2.0, 3.0]})</pre><b>In a Jupyter environment, please rerun this cell to show the HTML representation or trust the notebook. <br />On GitHub, the HTML representation is unable to render, please try loading this page with nbviewer.org.</b></div><div class=\"sk-container\" hidden><div class=\"sk-item sk-dashed-wrapped\"><div class=\"sk-label-container\"><div class=\"sk-label sk-toggleable\"><input class=\"sk-toggleable__control sk-hidden--visually\" id=\"sk-estimator-id-6\" type=\"checkbox\" ><label for=\"sk-estimator-id-6\" class=\"sk-toggleable__label sk-toggleable__label-arrow\">GridSearchCV</label><div class=\"sk-toggleable__content\"><pre>GridSearchCV(cv=5,\n",
       "             estimator=Pipeline(steps=[(&#x27;cvec&#x27;, CountVectorizer()),\n",
       "                                       (&#x27;to_dense&#x27;, DenseTransformer()),\n",
       "                                       (&#x27;nb&#x27;, MultinomialNB())]),\n",
       "             param_grid={&#x27;cvec__max_features&#x27;: [2500, 3000, 3500],\n",
       "                         &#x27;cvec__min_df&#x27;: [2],\n",
       "                         &#x27;cvec__ngram_range&#x27;: [(1, 2), (1, 3), (1, 4)],\n",
       "                         &#x27;cvec__stop_words&#x27;: [None, &#x27;english&#x27;],\n",
       "                         &#x27;nb__alpha&#x27;: [1.0, 2.0, 3.0]})</pre></div></div></div><div class=\"sk-parallel\"><div class=\"sk-parallel-item\"><div class=\"sk-item\"><div class=\"sk-label-container\"><div class=\"sk-label sk-toggleable\"><input class=\"sk-toggleable__control sk-hidden--visually\" id=\"sk-estimator-id-7\" type=\"checkbox\" ><label for=\"sk-estimator-id-7\" class=\"sk-toggleable__label sk-toggleable__label-arrow\">estimator: Pipeline</label><div class=\"sk-toggleable__content\"><pre>Pipeline(steps=[(&#x27;cvec&#x27;, CountVectorizer()), (&#x27;to_dense&#x27;, DenseTransformer()),\n",
       "                (&#x27;nb&#x27;, MultinomialNB())])</pre></div></div></div><div class=\"sk-serial\"><div class=\"sk-item\"><div class=\"sk-serial\"><div class=\"sk-item\"><div class=\"sk-estimator sk-toggleable\"><input class=\"sk-toggleable__control sk-hidden--visually\" id=\"sk-estimator-id-8\" type=\"checkbox\" ><label for=\"sk-estimator-id-8\" class=\"sk-toggleable__label sk-toggleable__label-arrow\">CountVectorizer</label><div class=\"sk-toggleable__content\"><pre>CountVectorizer()</pre></div></div></div><div class=\"sk-item\"><div class=\"sk-estimator sk-toggleable\"><input class=\"sk-toggleable__control sk-hidden--visually\" id=\"sk-estimator-id-9\" type=\"checkbox\" ><label for=\"sk-estimator-id-9\" class=\"sk-toggleable__label sk-toggleable__label-arrow\">DenseTransformer</label><div class=\"sk-toggleable__content\"><pre>DenseTransformer()</pre></div></div></div><div class=\"sk-item\"><div class=\"sk-estimator sk-toggleable\"><input class=\"sk-toggleable__control sk-hidden--visually\" id=\"sk-estimator-id-10\" type=\"checkbox\" ><label for=\"sk-estimator-id-10\" class=\"sk-toggleable__label sk-toggleable__label-arrow\">MultinomialNB</label><div class=\"sk-toggleable__content\"><pre>MultinomialNB()</pre></div></div></div></div></div></div></div></div></div></div></div></div>"
      ],
      "text/plain": [
       "GridSearchCV(cv=5,\n",
       "             estimator=Pipeline(steps=[('cvec', CountVectorizer()),\n",
       "                                       ('to_dense', DenseTransformer()),\n",
       "                                       ('nb', MultinomialNB())]),\n",
       "             param_grid={'cvec__max_features': [2500, 3000, 3500],\n",
       "                         'cvec__min_df': [2],\n",
       "                         'cvec__ngram_range': [(1, 2), (1, 3), (1, 4)],\n",
       "                         'cvec__stop_words': [None, 'english'],\n",
       "                         'nb__alpha': [1.0, 2.0, 3.0]})"
      ]
     },
     "execution_count": 12,
     "metadata": {},
     "output_type": "execute_result"
    }
   ],
   "source": [
    "cv_nb_gs.fit(X_train, y_train)"
   ]
  },
  {
   "cell_type": "code",
   "execution_count": 13,
   "id": "129c7afc-9388-4f0d-a2a8-2b981906a0b3",
   "metadata": {
    "tags": []
   },
   "outputs": [
    {
     "data": {
      "text/html": [
       "<style>#sk-container-id-3 {color: black;}#sk-container-id-3 pre{padding: 0;}#sk-container-id-3 div.sk-toggleable {background-color: white;}#sk-container-id-3 label.sk-toggleable__label {cursor: pointer;display: block;width: 100%;margin-bottom: 0;padding: 0.3em;box-sizing: border-box;text-align: center;}#sk-container-id-3 label.sk-toggleable__label-arrow:before {content: \"▸\";float: left;margin-right: 0.25em;color: #696969;}#sk-container-id-3 label.sk-toggleable__label-arrow:hover:before {color: black;}#sk-container-id-3 div.sk-estimator:hover label.sk-toggleable__label-arrow:before {color: black;}#sk-container-id-3 div.sk-toggleable__content {max-height: 0;max-width: 0;overflow: hidden;text-align: left;background-color: #f0f8ff;}#sk-container-id-3 div.sk-toggleable__content pre {margin: 0.2em;color: black;border-radius: 0.25em;background-color: #f0f8ff;}#sk-container-id-3 input.sk-toggleable__control:checked~div.sk-toggleable__content {max-height: 200px;max-width: 100%;overflow: auto;}#sk-container-id-3 input.sk-toggleable__control:checked~label.sk-toggleable__label-arrow:before {content: \"▾\";}#sk-container-id-3 div.sk-estimator input.sk-toggleable__control:checked~label.sk-toggleable__label {background-color: #d4ebff;}#sk-container-id-3 div.sk-label input.sk-toggleable__control:checked~label.sk-toggleable__label {background-color: #d4ebff;}#sk-container-id-3 input.sk-hidden--visually {border: 0;clip: rect(1px 1px 1px 1px);clip: rect(1px, 1px, 1px, 1px);height: 1px;margin: -1px;overflow: hidden;padding: 0;position: absolute;width: 1px;}#sk-container-id-3 div.sk-estimator {font-family: monospace;background-color: #f0f8ff;border: 1px dotted black;border-radius: 0.25em;box-sizing: border-box;margin-bottom: 0.5em;}#sk-container-id-3 div.sk-estimator:hover {background-color: #d4ebff;}#sk-container-id-3 div.sk-parallel-item::after {content: \"\";width: 100%;border-bottom: 1px solid gray;flex-grow: 1;}#sk-container-id-3 div.sk-label:hover label.sk-toggleable__label {background-color: #d4ebff;}#sk-container-id-3 div.sk-serial::before {content: \"\";position: absolute;border-left: 1px solid gray;box-sizing: border-box;top: 0;bottom: 0;left: 50%;z-index: 0;}#sk-container-id-3 div.sk-serial {display: flex;flex-direction: column;align-items: center;background-color: white;padding-right: 0.2em;padding-left: 0.2em;position: relative;}#sk-container-id-3 div.sk-item {position: relative;z-index: 1;}#sk-container-id-3 div.sk-parallel {display: flex;align-items: stretch;justify-content: center;background-color: white;position: relative;}#sk-container-id-3 div.sk-item::before, #sk-container-id-3 div.sk-parallel-item::before {content: \"\";position: absolute;border-left: 1px solid gray;box-sizing: border-box;top: 0;bottom: 0;left: 50%;z-index: -1;}#sk-container-id-3 div.sk-parallel-item {display: flex;flex-direction: column;z-index: 1;position: relative;background-color: white;}#sk-container-id-3 div.sk-parallel-item:first-child::after {align-self: flex-end;width: 50%;}#sk-container-id-3 div.sk-parallel-item:last-child::after {align-self: flex-start;width: 50%;}#sk-container-id-3 div.sk-parallel-item:only-child::after {width: 0;}#sk-container-id-3 div.sk-dashed-wrapped {border: 1px dashed gray;margin: 0 0.4em 0.5em 0.4em;box-sizing: border-box;padding-bottom: 0.4em;background-color: white;}#sk-container-id-3 div.sk-label label {font-family: monospace;font-weight: bold;display: inline-block;line-height: 1.2em;}#sk-container-id-3 div.sk-label-container {text-align: center;}#sk-container-id-3 div.sk-container {/* jupyter's `normalize.less` sets `[hidden] { display: none; }` but bootstrap.min.css set `[hidden] { display: none !important; }` so we also need the `!important` here to be able to override the default hidden behavior on the sphinx rendered scikit-learn.org. See: https://github.com/scikit-learn/scikit-learn/issues/21755 */display: inline-block !important;position: relative;}#sk-container-id-3 div.sk-text-repr-fallback {display: none;}</style><div id=\"sk-container-id-3\" class=\"sk-top-container\"><div class=\"sk-text-repr-fallback\"><pre>GridSearchCV(cv=5,\n",
       "             estimator=Pipeline(steps=[(&#x27;cvec&#x27;, CountVectorizer()),\n",
       "                                       (&#x27;to_dense&#x27;, DenseTransformer()),\n",
       "                                       (&#x27;rf&#x27;, RandomForestClassifier())]),\n",
       "             param_grid={&#x27;cvec__max_features&#x27;: [2500, 3000, 3500],\n",
       "                         &#x27;cvec__min_df&#x27;: [2],\n",
       "                         &#x27;cvec__ngram_range&#x27;: [(1, 2), (1, 3), (1, 4)],\n",
       "                         &#x27;cvec__stop_words&#x27;: [None, &#x27;english&#x27;],\n",
       "                         &#x27;rf__max_depth&#x27;: [None, 10],\n",
       "                         &#x27;rf__n_estimators&#x27;: [50, 100, 150]})</pre><b>In a Jupyter environment, please rerun this cell to show the HTML representation or trust the notebook. <br />On GitHub, the HTML representation is unable to render, please try loading this page with nbviewer.org.</b></div><div class=\"sk-container\" hidden><div class=\"sk-item sk-dashed-wrapped\"><div class=\"sk-label-container\"><div class=\"sk-label sk-toggleable\"><input class=\"sk-toggleable__control sk-hidden--visually\" id=\"sk-estimator-id-11\" type=\"checkbox\" ><label for=\"sk-estimator-id-11\" class=\"sk-toggleable__label sk-toggleable__label-arrow\">GridSearchCV</label><div class=\"sk-toggleable__content\"><pre>GridSearchCV(cv=5,\n",
       "             estimator=Pipeline(steps=[(&#x27;cvec&#x27;, CountVectorizer()),\n",
       "                                       (&#x27;to_dense&#x27;, DenseTransformer()),\n",
       "                                       (&#x27;rf&#x27;, RandomForestClassifier())]),\n",
       "             param_grid={&#x27;cvec__max_features&#x27;: [2500, 3000, 3500],\n",
       "                         &#x27;cvec__min_df&#x27;: [2],\n",
       "                         &#x27;cvec__ngram_range&#x27;: [(1, 2), (1, 3), (1, 4)],\n",
       "                         &#x27;cvec__stop_words&#x27;: [None, &#x27;english&#x27;],\n",
       "                         &#x27;rf__max_depth&#x27;: [None, 10],\n",
       "                         &#x27;rf__n_estimators&#x27;: [50, 100, 150]})</pre></div></div></div><div class=\"sk-parallel\"><div class=\"sk-parallel-item\"><div class=\"sk-item\"><div class=\"sk-label-container\"><div class=\"sk-label sk-toggleable\"><input class=\"sk-toggleable__control sk-hidden--visually\" id=\"sk-estimator-id-12\" type=\"checkbox\" ><label for=\"sk-estimator-id-12\" class=\"sk-toggleable__label sk-toggleable__label-arrow\">estimator: Pipeline</label><div class=\"sk-toggleable__content\"><pre>Pipeline(steps=[(&#x27;cvec&#x27;, CountVectorizer()), (&#x27;to_dense&#x27;, DenseTransformer()),\n",
       "                (&#x27;rf&#x27;, RandomForestClassifier())])</pre></div></div></div><div class=\"sk-serial\"><div class=\"sk-item\"><div class=\"sk-serial\"><div class=\"sk-item\"><div class=\"sk-estimator sk-toggleable\"><input class=\"sk-toggleable__control sk-hidden--visually\" id=\"sk-estimator-id-13\" type=\"checkbox\" ><label for=\"sk-estimator-id-13\" class=\"sk-toggleable__label sk-toggleable__label-arrow\">CountVectorizer</label><div class=\"sk-toggleable__content\"><pre>CountVectorizer()</pre></div></div></div><div class=\"sk-item\"><div class=\"sk-estimator sk-toggleable\"><input class=\"sk-toggleable__control sk-hidden--visually\" id=\"sk-estimator-id-14\" type=\"checkbox\" ><label for=\"sk-estimator-id-14\" class=\"sk-toggleable__label sk-toggleable__label-arrow\">DenseTransformer</label><div class=\"sk-toggleable__content\"><pre>DenseTransformer()</pre></div></div></div><div class=\"sk-item\"><div class=\"sk-estimator sk-toggleable\"><input class=\"sk-toggleable__control sk-hidden--visually\" id=\"sk-estimator-id-15\" type=\"checkbox\" ><label for=\"sk-estimator-id-15\" class=\"sk-toggleable__label sk-toggleable__label-arrow\">RandomForestClassifier</label><div class=\"sk-toggleable__content\"><pre>RandomForestClassifier()</pre></div></div></div></div></div></div></div></div></div></div></div></div>"
      ],
      "text/plain": [
       "GridSearchCV(cv=5,\n",
       "             estimator=Pipeline(steps=[('cvec', CountVectorizer()),\n",
       "                                       ('to_dense', DenseTransformer()),\n",
       "                                       ('rf', RandomForestClassifier())]),\n",
       "             param_grid={'cvec__max_features': [2500, 3000, 3500],\n",
       "                         'cvec__min_df': [2],\n",
       "                         'cvec__ngram_range': [(1, 2), (1, 3), (1, 4)],\n",
       "                         'cvec__stop_words': [None, 'english'],\n",
       "                         'rf__max_depth': [None, 10],\n",
       "                         'rf__n_estimators': [50, 100, 150]})"
      ]
     },
     "execution_count": 13,
     "metadata": {},
     "output_type": "execute_result"
    }
   ],
   "source": [
    "cv_rf_gs.fit(X_train, y_train)"
   ]
  },
  {
   "cell_type": "code",
   "execution_count": 14,
   "id": "ade2a278-599c-48c2-9b0d-b13f5dde9012",
   "metadata": {
    "scrolled": true,
    "tags": []
   },
   "outputs": [
    {
     "name": "stderr",
     "output_type": "stream",
     "text": [
      "/Users/JR/anaconda3/lib/python3.11/site-packages/sklearn/model_selection/_validation.py:425: FitFailedWarning: \n",
      "270 fits failed out of a total of 540.\n",
      "The score on these train-test partitions for these parameters will be set to nan.\n",
      "If these failures are not expected, you can try to debug them by setting error_score='raise'.\n",
      "\n",
      "Below are more details about the failures:\n",
      "--------------------------------------------------------------------------------\n",
      "270 fits failed with the following error:\n",
      "Traceback (most recent call last):\n",
      "  File \"/Users/JR/anaconda3/lib/python3.11/site-packages/sklearn/model_selection/_validation.py\", line 732, in _fit_and_score\n",
      "    estimator.fit(X_train, y_train, **fit_params)\n",
      "  File \"/Users/JR/anaconda3/lib/python3.11/site-packages/sklearn/base.py\", line 1151, in wrapper\n",
      "    return fit_method(estimator, *args, **kwargs)\n",
      "           ^^^^^^^^^^^^^^^^^^^^^^^^^^^^^^^^^^^^^^\n",
      "  File \"/Users/JR/anaconda3/lib/python3.11/site-packages/sklearn/pipeline.py\", line 420, in fit\n",
      "    self._final_estimator.fit(Xt, y, **fit_params_last_step)\n",
      "  File \"/Users/JR/anaconda3/lib/python3.11/site-packages/sklearn/base.py\", line 1151, in wrapper\n",
      "    return fit_method(estimator, *args, **kwargs)\n",
      "           ^^^^^^^^^^^^^^^^^^^^^^^^^^^^^^^^^^^^^^\n",
      "  File \"/Users/JR/anaconda3/lib/python3.11/site-packages/sklearn/linear_model/_logistic.py\", line 1168, in fit\n",
      "    solver = _check_solver(self.solver, self.penalty, self.dual)\n",
      "             ^^^^^^^^^^^^^^^^^^^^^^^^^^^^^^^^^^^^^^^^^^^^^^^^^^^\n",
      "  File \"/Users/JR/anaconda3/lib/python3.11/site-packages/sklearn/linear_model/_logistic.py\", line 56, in _check_solver\n",
      "    raise ValueError(\n",
      "ValueError: Solver lbfgs supports only 'l2' or 'none' penalties, got l1 penalty.\n",
      "\n",
      "  warnings.warn(some_fits_failed_message, FitFailedWarning)\n",
      "/Users/JR/anaconda3/lib/python3.11/site-packages/sklearn/model_selection/_search.py:976: UserWarning: One or more of the test scores are non-finite: [       nan        nan        nan        nan        nan        nan\n",
      "        nan        nan        nan        nan        nan        nan\n",
      "        nan        nan        nan        nan        nan        nan\n",
      " 0.72602014 0.72242876 0.72873099 0.72152379 0.73144185 0.72152379\n",
      " 0.72602014 0.72242876 0.72873099 0.72152379 0.73054095 0.72152379\n",
      " 0.72602014 0.72242876 0.72873099 0.72152379 0.73054095 0.72152379\n",
      "        nan        nan        nan        nan        nan        nan\n",
      "        nan        nan        nan        nan        nan        nan\n",
      "        nan        nan        nan        nan        nan        nan\n",
      " 0.73416901 0.73147446 0.73597081 0.73146631 0.73416901 0.73237129\n",
      " 0.73416901 0.73147446 0.73597081 0.73146631 0.73687579 0.73237129\n",
      " 0.73416901 0.73147446 0.73597081 0.73146631 0.73687579 0.73237129\n",
      "        nan        nan        nan        nan        nan        nan\n",
      "        nan        nan        nan        nan        nan        nan\n",
      "        nan        nan        nan        nan        nan        nan\n",
      " 0.737793   0.73327219 0.73959887 0.73236721 0.73959887 0.73327219\n",
      " 0.737793   0.73327219 0.73959887 0.73236721 0.73959887 0.73327219\n",
      " 0.737793   0.73327219 0.73959887 0.73236721 0.73959887 0.73327219]\n",
      "  warnings.warn(\n"
     ]
    },
    {
     "data": {
      "text/html": [
       "<style>#sk-container-id-4 {color: black;}#sk-container-id-4 pre{padding: 0;}#sk-container-id-4 div.sk-toggleable {background-color: white;}#sk-container-id-4 label.sk-toggleable__label {cursor: pointer;display: block;width: 100%;margin-bottom: 0;padding: 0.3em;box-sizing: border-box;text-align: center;}#sk-container-id-4 label.sk-toggleable__label-arrow:before {content: \"▸\";float: left;margin-right: 0.25em;color: #696969;}#sk-container-id-4 label.sk-toggleable__label-arrow:hover:before {color: black;}#sk-container-id-4 div.sk-estimator:hover label.sk-toggleable__label-arrow:before {color: black;}#sk-container-id-4 div.sk-toggleable__content {max-height: 0;max-width: 0;overflow: hidden;text-align: left;background-color: #f0f8ff;}#sk-container-id-4 div.sk-toggleable__content pre {margin: 0.2em;color: black;border-radius: 0.25em;background-color: #f0f8ff;}#sk-container-id-4 input.sk-toggleable__control:checked~div.sk-toggleable__content {max-height: 200px;max-width: 100%;overflow: auto;}#sk-container-id-4 input.sk-toggleable__control:checked~label.sk-toggleable__label-arrow:before {content: \"▾\";}#sk-container-id-4 div.sk-estimator input.sk-toggleable__control:checked~label.sk-toggleable__label {background-color: #d4ebff;}#sk-container-id-4 div.sk-label input.sk-toggleable__control:checked~label.sk-toggleable__label {background-color: #d4ebff;}#sk-container-id-4 input.sk-hidden--visually {border: 0;clip: rect(1px 1px 1px 1px);clip: rect(1px, 1px, 1px, 1px);height: 1px;margin: -1px;overflow: hidden;padding: 0;position: absolute;width: 1px;}#sk-container-id-4 div.sk-estimator {font-family: monospace;background-color: #f0f8ff;border: 1px dotted black;border-radius: 0.25em;box-sizing: border-box;margin-bottom: 0.5em;}#sk-container-id-4 div.sk-estimator:hover {background-color: #d4ebff;}#sk-container-id-4 div.sk-parallel-item::after {content: \"\";width: 100%;border-bottom: 1px solid gray;flex-grow: 1;}#sk-container-id-4 div.sk-label:hover label.sk-toggleable__label {background-color: #d4ebff;}#sk-container-id-4 div.sk-serial::before {content: \"\";position: absolute;border-left: 1px solid gray;box-sizing: border-box;top: 0;bottom: 0;left: 50%;z-index: 0;}#sk-container-id-4 div.sk-serial {display: flex;flex-direction: column;align-items: center;background-color: white;padding-right: 0.2em;padding-left: 0.2em;position: relative;}#sk-container-id-4 div.sk-item {position: relative;z-index: 1;}#sk-container-id-4 div.sk-parallel {display: flex;align-items: stretch;justify-content: center;background-color: white;position: relative;}#sk-container-id-4 div.sk-item::before, #sk-container-id-4 div.sk-parallel-item::before {content: \"\";position: absolute;border-left: 1px solid gray;box-sizing: border-box;top: 0;bottom: 0;left: 50%;z-index: -1;}#sk-container-id-4 div.sk-parallel-item {display: flex;flex-direction: column;z-index: 1;position: relative;background-color: white;}#sk-container-id-4 div.sk-parallel-item:first-child::after {align-self: flex-end;width: 50%;}#sk-container-id-4 div.sk-parallel-item:last-child::after {align-self: flex-start;width: 50%;}#sk-container-id-4 div.sk-parallel-item:only-child::after {width: 0;}#sk-container-id-4 div.sk-dashed-wrapped {border: 1px dashed gray;margin: 0 0.4em 0.5em 0.4em;box-sizing: border-box;padding-bottom: 0.4em;background-color: white;}#sk-container-id-4 div.sk-label label {font-family: monospace;font-weight: bold;display: inline-block;line-height: 1.2em;}#sk-container-id-4 div.sk-label-container {text-align: center;}#sk-container-id-4 div.sk-container {/* jupyter's `normalize.less` sets `[hidden] { display: none; }` but bootstrap.min.css set `[hidden] { display: none !important; }` so we also need the `!important` here to be able to override the default hidden behavior on the sphinx rendered scikit-learn.org. See: https://github.com/scikit-learn/scikit-learn/issues/21755 */display: inline-block !important;position: relative;}#sk-container-id-4 div.sk-text-repr-fallback {display: none;}</style><div id=\"sk-container-id-4\" class=\"sk-top-container\"><div class=\"sk-text-repr-fallback\"><pre>GridSearchCV(cv=5,\n",
       "             estimator=Pipeline(steps=[(&#x27;tvec&#x27;, TfidfVectorizer()),\n",
       "                                       (&#x27;to_dense&#x27;, DenseTransformer()),\n",
       "                                       (&#x27;logr&#x27;, LogisticRegression())]),\n",
       "             param_grid={&#x27;logr__C&#x27;: [0.3, 0.5, 0.7],\n",
       "                         &#x27;logr__penalty&#x27;: [&#x27;l1&#x27;, &#x27;l2&#x27;],\n",
       "                         &#x27;tvec__max_features&#x27;: [2500, 3000, 3500],\n",
       "                         &#x27;tvec__min_df&#x27;: [2],\n",
       "                         &#x27;tvec__ngram_range&#x27;: [(1, 2), (1, 3), (1, 4)],\n",
       "                         &#x27;tvec__stop_words&#x27;: [None, &#x27;english&#x27;]})</pre><b>In a Jupyter environment, please rerun this cell to show the HTML representation or trust the notebook. <br />On GitHub, the HTML representation is unable to render, please try loading this page with nbviewer.org.</b></div><div class=\"sk-container\" hidden><div class=\"sk-item sk-dashed-wrapped\"><div class=\"sk-label-container\"><div class=\"sk-label sk-toggleable\"><input class=\"sk-toggleable__control sk-hidden--visually\" id=\"sk-estimator-id-16\" type=\"checkbox\" ><label for=\"sk-estimator-id-16\" class=\"sk-toggleable__label sk-toggleable__label-arrow\">GridSearchCV</label><div class=\"sk-toggleable__content\"><pre>GridSearchCV(cv=5,\n",
       "             estimator=Pipeline(steps=[(&#x27;tvec&#x27;, TfidfVectorizer()),\n",
       "                                       (&#x27;to_dense&#x27;, DenseTransformer()),\n",
       "                                       (&#x27;logr&#x27;, LogisticRegression())]),\n",
       "             param_grid={&#x27;logr__C&#x27;: [0.3, 0.5, 0.7],\n",
       "                         &#x27;logr__penalty&#x27;: [&#x27;l1&#x27;, &#x27;l2&#x27;],\n",
       "                         &#x27;tvec__max_features&#x27;: [2500, 3000, 3500],\n",
       "                         &#x27;tvec__min_df&#x27;: [2],\n",
       "                         &#x27;tvec__ngram_range&#x27;: [(1, 2), (1, 3), (1, 4)],\n",
       "                         &#x27;tvec__stop_words&#x27;: [None, &#x27;english&#x27;]})</pre></div></div></div><div class=\"sk-parallel\"><div class=\"sk-parallel-item\"><div class=\"sk-item\"><div class=\"sk-label-container\"><div class=\"sk-label sk-toggleable\"><input class=\"sk-toggleable__control sk-hidden--visually\" id=\"sk-estimator-id-17\" type=\"checkbox\" ><label for=\"sk-estimator-id-17\" class=\"sk-toggleable__label sk-toggleable__label-arrow\">estimator: Pipeline</label><div class=\"sk-toggleable__content\"><pre>Pipeline(steps=[(&#x27;tvec&#x27;, TfidfVectorizer()), (&#x27;to_dense&#x27;, DenseTransformer()),\n",
       "                (&#x27;logr&#x27;, LogisticRegression())])</pre></div></div></div><div class=\"sk-serial\"><div class=\"sk-item\"><div class=\"sk-serial\"><div class=\"sk-item\"><div class=\"sk-estimator sk-toggleable\"><input class=\"sk-toggleable__control sk-hidden--visually\" id=\"sk-estimator-id-18\" type=\"checkbox\" ><label for=\"sk-estimator-id-18\" class=\"sk-toggleable__label sk-toggleable__label-arrow\">TfidfVectorizer</label><div class=\"sk-toggleable__content\"><pre>TfidfVectorizer()</pre></div></div></div><div class=\"sk-item\"><div class=\"sk-estimator sk-toggleable\"><input class=\"sk-toggleable__control sk-hidden--visually\" id=\"sk-estimator-id-19\" type=\"checkbox\" ><label for=\"sk-estimator-id-19\" class=\"sk-toggleable__label sk-toggleable__label-arrow\">DenseTransformer</label><div class=\"sk-toggleable__content\"><pre>DenseTransformer()</pre></div></div></div><div class=\"sk-item\"><div class=\"sk-estimator sk-toggleable\"><input class=\"sk-toggleable__control sk-hidden--visually\" id=\"sk-estimator-id-20\" type=\"checkbox\" ><label for=\"sk-estimator-id-20\" class=\"sk-toggleable__label sk-toggleable__label-arrow\">LogisticRegression</label><div class=\"sk-toggleable__content\"><pre>LogisticRegression()</pre></div></div></div></div></div></div></div></div></div></div></div></div>"
      ],
      "text/plain": [
       "GridSearchCV(cv=5,\n",
       "             estimator=Pipeline(steps=[('tvec', TfidfVectorizer()),\n",
       "                                       ('to_dense', DenseTransformer()),\n",
       "                                       ('logr', LogisticRegression())]),\n",
       "             param_grid={'logr__C': [0.3, 0.5, 0.7],\n",
       "                         'logr__penalty': ['l1', 'l2'],\n",
       "                         'tvec__max_features': [2500, 3000, 3500],\n",
       "                         'tvec__min_df': [2],\n",
       "                         'tvec__ngram_range': [(1, 2), (1, 3), (1, 4)],\n",
       "                         'tvec__stop_words': [None, 'english']})"
      ]
     },
     "execution_count": 14,
     "metadata": {},
     "output_type": "execute_result"
    }
   ],
   "source": [
    "tf_lr_gs.fit(X_train, y_train)"
   ]
  },
  {
   "cell_type": "code",
   "execution_count": 15,
   "id": "5b00f71d-8fbc-4774-96f4-ec43969d0cd5",
   "metadata": {
    "tags": []
   },
   "outputs": [
    {
     "data": {
      "text/html": [
       "<style>#sk-container-id-5 {color: black;}#sk-container-id-5 pre{padding: 0;}#sk-container-id-5 div.sk-toggleable {background-color: white;}#sk-container-id-5 label.sk-toggleable__label {cursor: pointer;display: block;width: 100%;margin-bottom: 0;padding: 0.3em;box-sizing: border-box;text-align: center;}#sk-container-id-5 label.sk-toggleable__label-arrow:before {content: \"▸\";float: left;margin-right: 0.25em;color: #696969;}#sk-container-id-5 label.sk-toggleable__label-arrow:hover:before {color: black;}#sk-container-id-5 div.sk-estimator:hover label.sk-toggleable__label-arrow:before {color: black;}#sk-container-id-5 div.sk-toggleable__content {max-height: 0;max-width: 0;overflow: hidden;text-align: left;background-color: #f0f8ff;}#sk-container-id-5 div.sk-toggleable__content pre {margin: 0.2em;color: black;border-radius: 0.25em;background-color: #f0f8ff;}#sk-container-id-5 input.sk-toggleable__control:checked~div.sk-toggleable__content {max-height: 200px;max-width: 100%;overflow: auto;}#sk-container-id-5 input.sk-toggleable__control:checked~label.sk-toggleable__label-arrow:before {content: \"▾\";}#sk-container-id-5 div.sk-estimator input.sk-toggleable__control:checked~label.sk-toggleable__label {background-color: #d4ebff;}#sk-container-id-5 div.sk-label input.sk-toggleable__control:checked~label.sk-toggleable__label {background-color: #d4ebff;}#sk-container-id-5 input.sk-hidden--visually {border: 0;clip: rect(1px 1px 1px 1px);clip: rect(1px, 1px, 1px, 1px);height: 1px;margin: -1px;overflow: hidden;padding: 0;position: absolute;width: 1px;}#sk-container-id-5 div.sk-estimator {font-family: monospace;background-color: #f0f8ff;border: 1px dotted black;border-radius: 0.25em;box-sizing: border-box;margin-bottom: 0.5em;}#sk-container-id-5 div.sk-estimator:hover {background-color: #d4ebff;}#sk-container-id-5 div.sk-parallel-item::after {content: \"\";width: 100%;border-bottom: 1px solid gray;flex-grow: 1;}#sk-container-id-5 div.sk-label:hover label.sk-toggleable__label {background-color: #d4ebff;}#sk-container-id-5 div.sk-serial::before {content: \"\";position: absolute;border-left: 1px solid gray;box-sizing: border-box;top: 0;bottom: 0;left: 50%;z-index: 0;}#sk-container-id-5 div.sk-serial {display: flex;flex-direction: column;align-items: center;background-color: white;padding-right: 0.2em;padding-left: 0.2em;position: relative;}#sk-container-id-5 div.sk-item {position: relative;z-index: 1;}#sk-container-id-5 div.sk-parallel {display: flex;align-items: stretch;justify-content: center;background-color: white;position: relative;}#sk-container-id-5 div.sk-item::before, #sk-container-id-5 div.sk-parallel-item::before {content: \"\";position: absolute;border-left: 1px solid gray;box-sizing: border-box;top: 0;bottom: 0;left: 50%;z-index: -1;}#sk-container-id-5 div.sk-parallel-item {display: flex;flex-direction: column;z-index: 1;position: relative;background-color: white;}#sk-container-id-5 div.sk-parallel-item:first-child::after {align-self: flex-end;width: 50%;}#sk-container-id-5 div.sk-parallel-item:last-child::after {align-self: flex-start;width: 50%;}#sk-container-id-5 div.sk-parallel-item:only-child::after {width: 0;}#sk-container-id-5 div.sk-dashed-wrapped {border: 1px dashed gray;margin: 0 0.4em 0.5em 0.4em;box-sizing: border-box;padding-bottom: 0.4em;background-color: white;}#sk-container-id-5 div.sk-label label {font-family: monospace;font-weight: bold;display: inline-block;line-height: 1.2em;}#sk-container-id-5 div.sk-label-container {text-align: center;}#sk-container-id-5 div.sk-container {/* jupyter's `normalize.less` sets `[hidden] { display: none; }` but bootstrap.min.css set `[hidden] { display: none !important; }` so we also need the `!important` here to be able to override the default hidden behavior on the sphinx rendered scikit-learn.org. See: https://github.com/scikit-learn/scikit-learn/issues/21755 */display: inline-block !important;position: relative;}#sk-container-id-5 div.sk-text-repr-fallback {display: none;}</style><div id=\"sk-container-id-5\" class=\"sk-top-container\"><div class=\"sk-text-repr-fallback\"><pre>GridSearchCV(cv=5,\n",
       "             estimator=Pipeline(steps=[(&#x27;tvec&#x27;, TfidfVectorizer()),\n",
       "                                       (&#x27;to_dense&#x27;, DenseTransformer()),\n",
       "                                       (&#x27;nb&#x27;, MultinomialNB())]),\n",
       "             param_grid={&#x27;nb__alpha&#x27;: [1.0, 2.0, 3.0],\n",
       "                         &#x27;tvec__max_features&#x27;: [2500, 3000, 3500],\n",
       "                         &#x27;tvec__min_df&#x27;: [2],\n",
       "                         &#x27;tvec__ngram_range&#x27;: [(1, 2), (1, 3), (1, 4)],\n",
       "                         &#x27;tvec__stop_words&#x27;: [None, &#x27;english&#x27;]})</pre><b>In a Jupyter environment, please rerun this cell to show the HTML representation or trust the notebook. <br />On GitHub, the HTML representation is unable to render, please try loading this page with nbviewer.org.</b></div><div class=\"sk-container\" hidden><div class=\"sk-item sk-dashed-wrapped\"><div class=\"sk-label-container\"><div class=\"sk-label sk-toggleable\"><input class=\"sk-toggleable__control sk-hidden--visually\" id=\"sk-estimator-id-21\" type=\"checkbox\" ><label for=\"sk-estimator-id-21\" class=\"sk-toggleable__label sk-toggleable__label-arrow\">GridSearchCV</label><div class=\"sk-toggleable__content\"><pre>GridSearchCV(cv=5,\n",
       "             estimator=Pipeline(steps=[(&#x27;tvec&#x27;, TfidfVectorizer()),\n",
       "                                       (&#x27;to_dense&#x27;, DenseTransformer()),\n",
       "                                       (&#x27;nb&#x27;, MultinomialNB())]),\n",
       "             param_grid={&#x27;nb__alpha&#x27;: [1.0, 2.0, 3.0],\n",
       "                         &#x27;tvec__max_features&#x27;: [2500, 3000, 3500],\n",
       "                         &#x27;tvec__min_df&#x27;: [2],\n",
       "                         &#x27;tvec__ngram_range&#x27;: [(1, 2), (1, 3), (1, 4)],\n",
       "                         &#x27;tvec__stop_words&#x27;: [None, &#x27;english&#x27;]})</pre></div></div></div><div class=\"sk-parallel\"><div class=\"sk-parallel-item\"><div class=\"sk-item\"><div class=\"sk-label-container\"><div class=\"sk-label sk-toggleable\"><input class=\"sk-toggleable__control sk-hidden--visually\" id=\"sk-estimator-id-22\" type=\"checkbox\" ><label for=\"sk-estimator-id-22\" class=\"sk-toggleable__label sk-toggleable__label-arrow\">estimator: Pipeline</label><div class=\"sk-toggleable__content\"><pre>Pipeline(steps=[(&#x27;tvec&#x27;, TfidfVectorizer()), (&#x27;to_dense&#x27;, DenseTransformer()),\n",
       "                (&#x27;nb&#x27;, MultinomialNB())])</pre></div></div></div><div class=\"sk-serial\"><div class=\"sk-item\"><div class=\"sk-serial\"><div class=\"sk-item\"><div class=\"sk-estimator sk-toggleable\"><input class=\"sk-toggleable__control sk-hidden--visually\" id=\"sk-estimator-id-23\" type=\"checkbox\" ><label for=\"sk-estimator-id-23\" class=\"sk-toggleable__label sk-toggleable__label-arrow\">TfidfVectorizer</label><div class=\"sk-toggleable__content\"><pre>TfidfVectorizer()</pre></div></div></div><div class=\"sk-item\"><div class=\"sk-estimator sk-toggleable\"><input class=\"sk-toggleable__control sk-hidden--visually\" id=\"sk-estimator-id-24\" type=\"checkbox\" ><label for=\"sk-estimator-id-24\" class=\"sk-toggleable__label sk-toggleable__label-arrow\">DenseTransformer</label><div class=\"sk-toggleable__content\"><pre>DenseTransformer()</pre></div></div></div><div class=\"sk-item\"><div class=\"sk-estimator sk-toggleable\"><input class=\"sk-toggleable__control sk-hidden--visually\" id=\"sk-estimator-id-25\" type=\"checkbox\" ><label for=\"sk-estimator-id-25\" class=\"sk-toggleable__label sk-toggleable__label-arrow\">MultinomialNB</label><div class=\"sk-toggleable__content\"><pre>MultinomialNB()</pre></div></div></div></div></div></div></div></div></div></div></div></div>"
      ],
      "text/plain": [
       "GridSearchCV(cv=5,\n",
       "             estimator=Pipeline(steps=[('tvec', TfidfVectorizer()),\n",
       "                                       ('to_dense', DenseTransformer()),\n",
       "                                       ('nb', MultinomialNB())]),\n",
       "             param_grid={'nb__alpha': [1.0, 2.0, 3.0],\n",
       "                         'tvec__max_features': [2500, 3000, 3500],\n",
       "                         'tvec__min_df': [2],\n",
       "                         'tvec__ngram_range': [(1, 2), (1, 3), (1, 4)],\n",
       "                         'tvec__stop_words': [None, 'english']})"
      ]
     },
     "execution_count": 15,
     "metadata": {},
     "output_type": "execute_result"
    }
   ],
   "source": [
    "tf_nb_gs.fit(X_train, y_train)"
   ]
  },
  {
   "cell_type": "code",
   "execution_count": 16,
   "id": "351fa399-3f85-4dcf-b26c-b135e4daa4de",
   "metadata": {},
   "outputs": [
    {
     "data": {
      "text/html": [
       "<style>#sk-container-id-6 {color: black;}#sk-container-id-6 pre{padding: 0;}#sk-container-id-6 div.sk-toggleable {background-color: white;}#sk-container-id-6 label.sk-toggleable__label {cursor: pointer;display: block;width: 100%;margin-bottom: 0;padding: 0.3em;box-sizing: border-box;text-align: center;}#sk-container-id-6 label.sk-toggleable__label-arrow:before {content: \"▸\";float: left;margin-right: 0.25em;color: #696969;}#sk-container-id-6 label.sk-toggleable__label-arrow:hover:before {color: black;}#sk-container-id-6 div.sk-estimator:hover label.sk-toggleable__label-arrow:before {color: black;}#sk-container-id-6 div.sk-toggleable__content {max-height: 0;max-width: 0;overflow: hidden;text-align: left;background-color: #f0f8ff;}#sk-container-id-6 div.sk-toggleable__content pre {margin: 0.2em;color: black;border-radius: 0.25em;background-color: #f0f8ff;}#sk-container-id-6 input.sk-toggleable__control:checked~div.sk-toggleable__content {max-height: 200px;max-width: 100%;overflow: auto;}#sk-container-id-6 input.sk-toggleable__control:checked~label.sk-toggleable__label-arrow:before {content: \"▾\";}#sk-container-id-6 div.sk-estimator input.sk-toggleable__control:checked~label.sk-toggleable__label {background-color: #d4ebff;}#sk-container-id-6 div.sk-label input.sk-toggleable__control:checked~label.sk-toggleable__label {background-color: #d4ebff;}#sk-container-id-6 input.sk-hidden--visually {border: 0;clip: rect(1px 1px 1px 1px);clip: rect(1px, 1px, 1px, 1px);height: 1px;margin: -1px;overflow: hidden;padding: 0;position: absolute;width: 1px;}#sk-container-id-6 div.sk-estimator {font-family: monospace;background-color: #f0f8ff;border: 1px dotted black;border-radius: 0.25em;box-sizing: border-box;margin-bottom: 0.5em;}#sk-container-id-6 div.sk-estimator:hover {background-color: #d4ebff;}#sk-container-id-6 div.sk-parallel-item::after {content: \"\";width: 100%;border-bottom: 1px solid gray;flex-grow: 1;}#sk-container-id-6 div.sk-label:hover label.sk-toggleable__label {background-color: #d4ebff;}#sk-container-id-6 div.sk-serial::before {content: \"\";position: absolute;border-left: 1px solid gray;box-sizing: border-box;top: 0;bottom: 0;left: 50%;z-index: 0;}#sk-container-id-6 div.sk-serial {display: flex;flex-direction: column;align-items: center;background-color: white;padding-right: 0.2em;padding-left: 0.2em;position: relative;}#sk-container-id-6 div.sk-item {position: relative;z-index: 1;}#sk-container-id-6 div.sk-parallel {display: flex;align-items: stretch;justify-content: center;background-color: white;position: relative;}#sk-container-id-6 div.sk-item::before, #sk-container-id-6 div.sk-parallel-item::before {content: \"\";position: absolute;border-left: 1px solid gray;box-sizing: border-box;top: 0;bottom: 0;left: 50%;z-index: -1;}#sk-container-id-6 div.sk-parallel-item {display: flex;flex-direction: column;z-index: 1;position: relative;background-color: white;}#sk-container-id-6 div.sk-parallel-item:first-child::after {align-self: flex-end;width: 50%;}#sk-container-id-6 div.sk-parallel-item:last-child::after {align-self: flex-start;width: 50%;}#sk-container-id-6 div.sk-parallel-item:only-child::after {width: 0;}#sk-container-id-6 div.sk-dashed-wrapped {border: 1px dashed gray;margin: 0 0.4em 0.5em 0.4em;box-sizing: border-box;padding-bottom: 0.4em;background-color: white;}#sk-container-id-6 div.sk-label label {font-family: monospace;font-weight: bold;display: inline-block;line-height: 1.2em;}#sk-container-id-6 div.sk-label-container {text-align: center;}#sk-container-id-6 div.sk-container {/* jupyter's `normalize.less` sets `[hidden] { display: none; }` but bootstrap.min.css set `[hidden] { display: none !important; }` so we also need the `!important` here to be able to override the default hidden behavior on the sphinx rendered scikit-learn.org. See: https://github.com/scikit-learn/scikit-learn/issues/21755 */display: inline-block !important;position: relative;}#sk-container-id-6 div.sk-text-repr-fallback {display: none;}</style><div id=\"sk-container-id-6\" class=\"sk-top-container\"><div class=\"sk-text-repr-fallback\"><pre>GridSearchCV(cv=5,\n",
       "             estimator=Pipeline(steps=[(&#x27;tvec&#x27;, TfidfVectorizer()),\n",
       "                                       (&#x27;to_dense&#x27;, DenseTransformer()),\n",
       "                                       (&#x27;rf&#x27;, RandomForestClassifier())]),\n",
       "             param_grid={&#x27;rf__max_depth&#x27;: [None, 10],\n",
       "                         &#x27;rf__n_estimators&#x27;: [50, 100, 150],\n",
       "                         &#x27;tvec__max_features&#x27;: [2500, 3000, 3500],\n",
       "                         &#x27;tvec__min_df&#x27;: [2],\n",
       "                         &#x27;tvec__ngram_range&#x27;: [(1, 2), (1, 3), (1, 4)],\n",
       "                         &#x27;tvec__stop_words&#x27;: [None, &#x27;english&#x27;]})</pre><b>In a Jupyter environment, please rerun this cell to show the HTML representation or trust the notebook. <br />On GitHub, the HTML representation is unable to render, please try loading this page with nbviewer.org.</b></div><div class=\"sk-container\" hidden><div class=\"sk-item sk-dashed-wrapped\"><div class=\"sk-label-container\"><div class=\"sk-label sk-toggleable\"><input class=\"sk-toggleable__control sk-hidden--visually\" id=\"sk-estimator-id-26\" type=\"checkbox\" ><label for=\"sk-estimator-id-26\" class=\"sk-toggleable__label sk-toggleable__label-arrow\">GridSearchCV</label><div class=\"sk-toggleable__content\"><pre>GridSearchCV(cv=5,\n",
       "             estimator=Pipeline(steps=[(&#x27;tvec&#x27;, TfidfVectorizer()),\n",
       "                                       (&#x27;to_dense&#x27;, DenseTransformer()),\n",
       "                                       (&#x27;rf&#x27;, RandomForestClassifier())]),\n",
       "             param_grid={&#x27;rf__max_depth&#x27;: [None, 10],\n",
       "                         &#x27;rf__n_estimators&#x27;: [50, 100, 150],\n",
       "                         &#x27;tvec__max_features&#x27;: [2500, 3000, 3500],\n",
       "                         &#x27;tvec__min_df&#x27;: [2],\n",
       "                         &#x27;tvec__ngram_range&#x27;: [(1, 2), (1, 3), (1, 4)],\n",
       "                         &#x27;tvec__stop_words&#x27;: [None, &#x27;english&#x27;]})</pre></div></div></div><div class=\"sk-parallel\"><div class=\"sk-parallel-item\"><div class=\"sk-item\"><div class=\"sk-label-container\"><div class=\"sk-label sk-toggleable\"><input class=\"sk-toggleable__control sk-hidden--visually\" id=\"sk-estimator-id-27\" type=\"checkbox\" ><label for=\"sk-estimator-id-27\" class=\"sk-toggleable__label sk-toggleable__label-arrow\">estimator: Pipeline</label><div class=\"sk-toggleable__content\"><pre>Pipeline(steps=[(&#x27;tvec&#x27;, TfidfVectorizer()), (&#x27;to_dense&#x27;, DenseTransformer()),\n",
       "                (&#x27;rf&#x27;, RandomForestClassifier())])</pre></div></div></div><div class=\"sk-serial\"><div class=\"sk-item\"><div class=\"sk-serial\"><div class=\"sk-item\"><div class=\"sk-estimator sk-toggleable\"><input class=\"sk-toggleable__control sk-hidden--visually\" id=\"sk-estimator-id-28\" type=\"checkbox\" ><label for=\"sk-estimator-id-28\" class=\"sk-toggleable__label sk-toggleable__label-arrow\">TfidfVectorizer</label><div class=\"sk-toggleable__content\"><pre>TfidfVectorizer()</pre></div></div></div><div class=\"sk-item\"><div class=\"sk-estimator sk-toggleable\"><input class=\"sk-toggleable__control sk-hidden--visually\" id=\"sk-estimator-id-29\" type=\"checkbox\" ><label for=\"sk-estimator-id-29\" class=\"sk-toggleable__label sk-toggleable__label-arrow\">DenseTransformer</label><div class=\"sk-toggleable__content\"><pre>DenseTransformer()</pre></div></div></div><div class=\"sk-item\"><div class=\"sk-estimator sk-toggleable\"><input class=\"sk-toggleable__control sk-hidden--visually\" id=\"sk-estimator-id-30\" type=\"checkbox\" ><label for=\"sk-estimator-id-30\" class=\"sk-toggleable__label sk-toggleable__label-arrow\">RandomForestClassifier</label><div class=\"sk-toggleable__content\"><pre>RandomForestClassifier()</pre></div></div></div></div></div></div></div></div></div></div></div></div>"
      ],
      "text/plain": [
       "GridSearchCV(cv=5,\n",
       "             estimator=Pipeline(steps=[('tvec', TfidfVectorizer()),\n",
       "                                       ('to_dense', DenseTransformer()),\n",
       "                                       ('rf', RandomForestClassifier())]),\n",
       "             param_grid={'rf__max_depth': [None, 10],\n",
       "                         'rf__n_estimators': [50, 100, 150],\n",
       "                         'tvec__max_features': [2500, 3000, 3500],\n",
       "                         'tvec__min_df': [2],\n",
       "                         'tvec__ngram_range': [(1, 2), (1, 3), (1, 4)],\n",
       "                         'tvec__stop_words': [None, 'english']})"
      ]
     },
     "execution_count": 16,
     "metadata": {},
     "output_type": "execute_result"
    }
   ],
   "source": [
    "tf_rf_gs.fit(X_train, y_train)"
   ]
  },
  {
   "cell_type": "markdown",
   "id": "f73a5a2e-17de-48f7-8fdb-4df300262d70",
   "metadata": {},
   "source": [
    "## Optimize Model Hyper-Parameters"
   ]
  },
  {
   "cell_type": "markdown",
   "id": "0de59052-0964-4666-b590-6c43aa66c128",
   "metadata": {},
   "source": [
    "---\n",
    "#### Iteration 1 Hyper-Parameters\n",
    "\n",
    "'cvec__stop_words': ['english']<br>\n",
    "'cvec__max_features': [3000, 5000]<br>\n",
    "'cvec__min_df': [2, 3]<br>\n",
    "'cvec__ngram_range': [(1, 1), (1, 2)]<br>\n",
    "'tvec__stop_words': ['english']<br>\n",
    "'tvec__max_features': [3000, 5000]<br>\n",
    "'tvec__min_df': [2, 3]<br>\n",
    "'tvec__ngram_range': [(1, 1), (1, 2)]<br>\n",
    "'logr__C': [0.1, 1.0]<br>\n",
    "'rf__n_estimators': [100, 200]<br>\n",
    "'rf__max_depth': [None, 5]<br>"
   ]
  },
  {
   "cell_type": "code",
   "execution_count": 17,
   "id": "cef69de7-8ee4-4f62-9856-d420eab0d1cc",
   "metadata": {
    "tags": []
   },
   "outputs": [],
   "source": [
    "# Iteration 1: Output best parameters, best score, test score\n",
    "\n",
    "# gs_dict = {'CountVectorizer LogisticalRegression' : cv_lr_gs, \n",
    "#            'CountVectorizer MultinomialNB' : cv_nb_gs, \n",
    "#            'CountVectorizer RandomForest' : cv_rf_gs, \n",
    "#            'TfidfVectorizer LogisticalRegression' : tf_lr_gs, \n",
    "#            'TfidfVectorizer MultinomialNB' : tf_nb_gs, \n",
    "#            'TfidfVectorizer RandomForest' : tf_rf_gs\n",
    "#           }\n",
    "# print('Iteration 1')\n",
    "\n",
    "# for key, value in gs_dict.items():\n",
    "#     print('=' * 40)\n",
    "#     print(key)\n",
    "#     print(f'Train Score: {(value.best_score_).round(3)}')\n",
    "#     print(f'Test Score: {(value.score(X_test, y_test)).round(3)}')\n",
    "#     print(f'Best Parameters: {value.best_params_}')"
   ]
  },
  {
   "cell_type": "markdown",
   "id": "92ce4cee-8a7c-4c17-a080-f4978542764b",
   "metadata": {},
   "source": [
    "#### Observation\n",
    "In general TfidfVectorizer performed better than CountVectorizer with the TfidfVectorizer RandomForest performing best.  For the next iteration changed the following:\n",
    "\n",
    "stop_words: ['english'] --> ['None', 'english']<br>\n",
    "max_features: [1000, 3000] --> [3000, 4000, 5000]<br>\n",
    "min_df: [1, 2] --> [2]<br>\n",
    "ngram_range: [(1, 1), (1, 2)] --> [(1, 1), (1, 2), (1, 3)]<br>\n",
    "logr__C: [0.1, 1.0] --> [0.5, 1.0, 2]<br>\n",
    "logr__penalty: add feature [l1, l2]<br>\n",
    "nb__alpha: add feature [0.1, 0.5, 1.0]<br>\n",
    "rf__n_estimators: [100, 200] --> [50, 100, 150]<br>\n",
    "rf__max_depth: [None, 5] --> [None, 10]<br>"
   ]
  },
  {
   "cell_type": "markdown",
   "id": "b484ddfc-dbcb-4eb8-99c9-d9d69e20dedb",
   "metadata": {},
   "source": [
    "---\n",
    "#### Iteration 2 Hyper-Parameters\n",
    "\n",
    "'cvec__stop_words': [None, 'english']<br>\n",
    "'cvec__max_features': [3000, 4000, 5000]<br>\n",
    "'cvec__min_df': [2]<br>\n",
    "'cvec__ngram_range': [(1, 1), (1, 2), (1, 3)]<br>\n",
    "'tvec__stop_words': [None, 'english']<br>\n",
    "'tvec__max_features': [3000, 4000, 5000]<br>\n",
    "'tvec__min_df': [2]<br>\n",
    "'tvec__ngram_range': [(1 ,1), (1, 2), (1, 3)]<br>\n",
    "'logr__C': [0.5, 1.0, 2.0]<br>\n",
    "'logr__penalty': ['l1', 'l2']<br>\n",
    "'nb__alpha': [0.1, 0.5, 1.0]<br>\n",
    "'rf__n_estimators': [50, 100, 150]<br>\n",
    "'rf__max_depth': [None, 10]<br>"
   ]
  },
  {
   "cell_type": "code",
   "execution_count": 18,
   "id": "2789f53a-9945-4652-a569-df1a4cc823a8",
   "metadata": {
    "tags": []
   },
   "outputs": [],
   "source": [
    "# Iteration 2: Output best parameters, best score, test score\n",
    "\n",
    "# gs_dict = {'CountVectorizer LogisticalRegression' : cv_lr_gs, \n",
    "#            'CountVectorizer MultinomialNB' : cv_nb_gs, \n",
    "#            'CountVectorizer RandomForest' : cv_rf_gs, \n",
    "#            'TfidfVectorizer LogisticalRegression' : tf_lr_gs, \n",
    "#            'TfidfVectorizer MultinomialNB' : tf_nb_gs, \n",
    "#            'TfidfVectorizer RandomForest' : tf_rf_gs\n",
    "#           }\n",
    "# print('Iteration 2')\n",
    "\n",
    "# for key, value in gs_dict.items():\n",
    "#     print('=' * 40)\n",
    "#     print(key)\n",
    "#     print(f'Train Score: {(value.best_score_).round(3)}')\n",
    "#     print(f'Test Score: {(value.score(X_test, y_test)).round(3)}')\n",
    "#     print(f'Best Parameters: {value.best_params_}')"
   ]
  },
  {
   "cell_type": "markdown",
   "id": "eead3092-12a5-4b22-8591-ceb2e25673c9",
   "metadata": {},
   "source": [
    "#### Observation\n",
    "In general both transformers performed similarly with RandomForest accuracy down and LogisticalRegression and MultinomialNB accuracy up.  For the next iteration changed the following:\n",
    "\n",
    "max_features: [3000, 4000, 5000] --> [2500, 3000, 3500]<br>\n",
    "min_df: [1, 2] --> [2]<br>\n",
    "ngram_range: [(1, 1), (1, 2), (1, 3)] --> [1, 2), (1, 3), (1, 4)]<br>\n",
    "logr__C: [0.5, 1.0, 2] --> [0.3, 0.5, 0.7]<br>\n",
    "nb__alpha: [0.1, 0.5, 1.0] --> [1.0, 2.0, 3.0]<br>"
   ]
  },
  {
   "cell_type": "markdown",
   "id": "dd3dc9cd-6eef-4be7-8d33-2363883a7f45",
   "metadata": {},
   "source": [
    "---\n",
    "#### Iteration 3 Hyper-Parameters\n",
    "\n",
    "'cvec__stop_words': [None, 'english']<br>\n",
    "'cvec__max_features': [2500, 3000, 3500]<br>\n",
    "'cvec__min_df': [2]<br>\n",
    "'cvec__ngram_range': [(1, 2), (1, 3), (1, 4)]<br>\n",
    "'tvec__stop_words': [None, 'english']<br>\n",
    "'tvec__max_features': [2500, 3000, 3500]<br>\n",
    "'tvec__min_df': [2]<br>\n",
    "'tvec__ngram_range': [(1, 2), (1, 3), (1, 4)]<br>\n",
    "'logr__C': [0.3, 0.5, 0.7]<br>\n",
    "'logr__penalty': ['l1', 'l2']<br>\n",
    "'nb__alpha': [1.0, 2.0, 3.0]<br>\n",
    "'rf__n_estimators': [50, 100, 150]<br>\n",
    "'rf__max_depth': [None, 10]<br>"
   ]
  },
  {
   "cell_type": "code",
   "execution_count": 19,
   "id": "cfbfcdc2-f41f-4382-bf59-c74920d47d5d",
   "metadata": {
    "tags": []
   },
   "outputs": [
    {
     "name": "stdout",
     "output_type": "stream",
     "text": [
      "Iteration 3\n",
      "========================================\n",
      "CountVectorizer LogisticalRegression\n",
      "Train Score: 0.751\n",
      "Test Score: 0.724\n",
      "Best Parameters: {'cvec__max_features': 2500, 'cvec__min_df': 2, 'cvec__ngram_range': (1, 2), 'cvec__stop_words': None, 'logr__C': 0.7, 'logr__penalty': 'l2'}\n",
      "========================================\n",
      "CountVectorizer MultinomialNB\n",
      "Train Score: 0.734\n",
      "Test Score: 0.705\n",
      "Best Parameters: {'cvec__max_features': 2500, 'cvec__min_df': 2, 'cvec__ngram_range': (1, 2), 'cvec__stop_words': None, 'nb__alpha': 2.0}\n",
      "========================================\n",
      "CountVectorizer RandomForest\n",
      "Train Score: 0.747\n",
      "Test Score: 0.688\n",
      "Best Parameters: {'cvec__max_features': 3500, 'cvec__min_df': 2, 'cvec__ngram_range': (1, 4), 'cvec__stop_words': 'english', 'rf__max_depth': None, 'rf__n_estimators': 100}\n",
      "========================================\n",
      "TfidfVectorizer LogisticalRegression\n",
      "Train Score: 0.74\n",
      "Test Score: 0.715\n",
      "Best Parameters: {'logr__C': 0.7, 'logr__penalty': 'l2', 'tvec__max_features': 2500, 'tvec__min_df': 2, 'tvec__ngram_range': (1, 3), 'tvec__stop_words': None}\n",
      "========================================\n",
      "TfidfVectorizer MultinomialNB\n",
      "Train Score: 0.731\n",
      "Test Score: 0.726\n",
      "Best Parameters: {'nb__alpha': 1.0, 'tvec__max_features': 3000, 'tvec__min_df': 2, 'tvec__ngram_range': (1, 4), 'tvec__stop_words': None}\n",
      "========================================\n",
      "TfidfVectorizer RandomForest\n",
      "Train Score: 0.731\n",
      "Test Score: 0.694\n",
      "Best Parameters: {'rf__max_depth': None, 'rf__n_estimators': 150, 'tvec__max_features': 2500, 'tvec__min_df': 2, 'tvec__ngram_range': (1, 3), 'tvec__stop_words': 'english'}\n"
     ]
    }
   ],
   "source": [
    "# Iteration 3: Output best parameters, best score, test score\n",
    "\n",
    "gs_dict = {'CountVectorizer LogisticalRegression' : cv_lr_gs, \n",
    "           'CountVectorizer MultinomialNB' : cv_nb_gs, \n",
    "           'CountVectorizer RandomForest' : cv_rf_gs, \n",
    "           'TfidfVectorizer LogisticalRegression' : tf_lr_gs, \n",
    "           'TfidfVectorizer MultinomialNB' : tf_nb_gs, \n",
    "           'TfidfVectorizer RandomForest' : tf_rf_gs\n",
    "          }\n",
    "print('Iteration 3')\n",
    "\n",
    "for key, value in gs_dict.items():\n",
    "    print('=' * 40)\n",
    "    print(key)\n",
    "    print(f'Train Score: {(value.best_score_).round(3)}')\n",
    "    print(f'Test Score: {(value.score(X_test, y_test)).round(3)}')\n",
    "    print(f'Best Parameters: {value.best_params_}')"
   ]
  },
  {
   "cell_type": "markdown",
   "id": "cc78c662-9f07-4672-b9af-ef408c74878a",
   "metadata": {},
   "source": [
    "#### Observation\n",
    "MultinomialNB models performed best on the test set.  Next step, optimize the CountVectorizer version with ColumnTransformer by transforming 'title' and 'domain'."
   ]
  },
  {
   "cell_type": "markdown",
   "id": "06799b94-6d37-4c97-a97e-c2629c337ae5",
   "metadata": {},
   "source": [
    "## Optimize CountVectorizer MultinomialNB with ColumnTransfer"
   ]
  },
  {
   "cell_type": "code",
   "execution_count": 55,
   "id": "4ddf1076-8c90-4594-aff8-c9b7ff315b8c",
   "metadata": {
    "tags": []
   },
   "outputs": [],
   "source": [
    "# Utilize ColumnTransformer to CountVectorize 'title' and 'domain'\n",
    "# Source https://scikit-learn.org/stable/auto_examples/compose/plot_column_transformer_mixed_types.html\n",
    "\n",
    "# Assign X, y variables then perform testtrain split\n",
    "X = dvr[['title', 'domain']]\n",
    "y = dvr['subreddit']\n",
    "X_train, X_test, y_train, y_test = train_test_split(X, y, random_state = 42)\n",
    "\n",
    "# Instantiate ColumnTransformer to apply CountVectorizer to 'title' and 'domain'\n",
    "ctx = ColumnTransformer(transformers = [\n",
    "    ('cvec', CountVectorizer(min_df = 2, ngram_range = (1, 4), max_features = 3000), 'title'),\n",
    "    ('cvec1', CountVectorizer(min_df = 2, ngram_range = (1, 4), max_features = 3000), 'domain')\n",
    "])\n",
    "\n",
    "# Instantiate Pipeline with ColumnTransformer, DenseTransformer, and MultinomialNB estimator\n",
    "big_pipe = Pipeline(steps = [\n",
    "    ('ctx', ctx),\n",
    "    ('to_dense', DenseTransformer()),\n",
    "    ('model', MultinomialNB())\n",
    "])"
   ]
  },
  {
   "cell_type": "code",
   "execution_count": 21,
   "id": "e407b91a-1ffa-49fc-bd8e-6846a4ebc9cc",
   "metadata": {
    "tags": []
   },
   "outputs": [
    {
     "data": {
      "text/plain": [
       "{'fit_time': array([0.11557603, 0.09834599, 0.094594  , 0.09619522, 0.09511805]),\n",
       " 'score_time': array([0.01501703, 0.01523399, 0.01661587, 0.01709795, 0.0166347 ]),\n",
       " 'test_score': array([0.92342342, 0.90497738, 0.91855204, 0.92307692, 0.91402715]),\n",
       " 'train_score': array([0.97850679, 0.97966102, 0.97288136, 0.97514124, 0.97514124])}"
      ]
     },
     "execution_count": 21,
     "metadata": {},
     "output_type": "execute_result"
    }
   ],
   "source": [
    "# Fit training data to big_pipe and calculate cross_validate scores\n",
    "\n",
    "results = cross_validate(big_pipe, X_train, y_train, return_train_score = True)\n",
    "results"
   ]
  },
  {
   "cell_type": "code",
   "execution_count": 22,
   "id": "92b89c9c-3e82-4073-a92c-8c5e1ce7c6d2",
   "metadata": {
    "tags": []
   },
   "outputs": [
    {
     "name": "stdout",
     "output_type": "stream",
     "text": [
      "Average Train Score: 0.976\n",
      "Average Test Score: 0.917\n"
     ]
    }
   ],
   "source": [
    "# Generate average train and test accuracy scores\n",
    "\n",
    "print(f'Average Train Score: {results[\"train_score\"].mean().round(3)}')\n",
    "print(f'Average Test Score: {results[\"test_score\"].mean().round(3)}')"
   ]
  },
  {
   "cell_type": "markdown",
   "id": "0097a3f2-78a0-4a5b-8c38-ac2f714d6fff",
   "metadata": {
    "tags": []
   },
   "source": [
    "#### Observation\n",
    "CountVectorizing an additional feature improved Train/Test scores from 0.738/0.744 to 0.976/0.917."
   ]
  },
  {
   "cell_type": "markdown",
   "id": "548bcb2e-6b52-45cd-b9ff-9cdf27c40a87",
   "metadata": {},
   "source": [
    "---\n",
    "added below code after project submission to see how to do grid search with a columntransform"
   ]
  },
  {
   "cell_type": "code",
   "execution_count": 56,
   "id": "218d56f1-ea45-4bdf-8884-19460b57cd09",
   "metadata": {
    "tags": []
   },
   "outputs": [],
   "source": [
    "big_pipe_params = {\n",
    "    'ctx__cvec__stop_words': [None, 'english'],\n",
    "    'ctx__cvec__max_features': [2500, 3000, 3500],\n",
    "    'ctx__cvec__min_df': [2],\n",
    "    'ctx__cvec__ngram_range': [(1, 2), (1, 3), (1, 4)],\n",
    "    'ctx__cvec1__stop_words': [None, 'english'],\n",
    "    'ctx__cvec1__max_features': [2500, 3000, 3500],\n",
    "    'ctx__cvec1__min_df': [2],\n",
    "    'ctx__cvec1__ngram_range': [(1, 2), (1, 3), (1, 4)],\n",
    "    'model__alpha': [1.0, 2.0, 3.0]\n",
    "}"
   ]
  },
  {
   "cell_type": "code",
   "execution_count": 57,
   "id": "87b68656-8492-43db-9d14-286cca5d72a3",
   "metadata": {
    "tags": []
   },
   "outputs": [],
   "source": [
    "big_pipe_gs = GridSearchCV(big_pipe,\n",
    "                       big_pipe_params,\n",
    "                       cv = 5)"
   ]
  },
  {
   "cell_type": "code",
   "execution_count": 58,
   "id": "b1593bd3-f2c3-4893-93f8-4534cf4da57c",
   "metadata": {
    "tags": []
   },
   "outputs": [
    {
     "data": {
      "text/html": [
       "<style>#sk-container-id-8 {color: black;}#sk-container-id-8 pre{padding: 0;}#sk-container-id-8 div.sk-toggleable {background-color: white;}#sk-container-id-8 label.sk-toggleable__label {cursor: pointer;display: block;width: 100%;margin-bottom: 0;padding: 0.3em;box-sizing: border-box;text-align: center;}#sk-container-id-8 label.sk-toggleable__label-arrow:before {content: \"▸\";float: left;margin-right: 0.25em;color: #696969;}#sk-container-id-8 label.sk-toggleable__label-arrow:hover:before {color: black;}#sk-container-id-8 div.sk-estimator:hover label.sk-toggleable__label-arrow:before {color: black;}#sk-container-id-8 div.sk-toggleable__content {max-height: 0;max-width: 0;overflow: hidden;text-align: left;background-color: #f0f8ff;}#sk-container-id-8 div.sk-toggleable__content pre {margin: 0.2em;color: black;border-radius: 0.25em;background-color: #f0f8ff;}#sk-container-id-8 input.sk-toggleable__control:checked~div.sk-toggleable__content {max-height: 200px;max-width: 100%;overflow: auto;}#sk-container-id-8 input.sk-toggleable__control:checked~label.sk-toggleable__label-arrow:before {content: \"▾\";}#sk-container-id-8 div.sk-estimator input.sk-toggleable__control:checked~label.sk-toggleable__label {background-color: #d4ebff;}#sk-container-id-8 div.sk-label input.sk-toggleable__control:checked~label.sk-toggleable__label {background-color: #d4ebff;}#sk-container-id-8 input.sk-hidden--visually {border: 0;clip: rect(1px 1px 1px 1px);clip: rect(1px, 1px, 1px, 1px);height: 1px;margin: -1px;overflow: hidden;padding: 0;position: absolute;width: 1px;}#sk-container-id-8 div.sk-estimator {font-family: monospace;background-color: #f0f8ff;border: 1px dotted black;border-radius: 0.25em;box-sizing: border-box;margin-bottom: 0.5em;}#sk-container-id-8 div.sk-estimator:hover {background-color: #d4ebff;}#sk-container-id-8 div.sk-parallel-item::after {content: \"\";width: 100%;border-bottom: 1px solid gray;flex-grow: 1;}#sk-container-id-8 div.sk-label:hover label.sk-toggleable__label {background-color: #d4ebff;}#sk-container-id-8 div.sk-serial::before {content: \"\";position: absolute;border-left: 1px solid gray;box-sizing: border-box;top: 0;bottom: 0;left: 50%;z-index: 0;}#sk-container-id-8 div.sk-serial {display: flex;flex-direction: column;align-items: center;background-color: white;padding-right: 0.2em;padding-left: 0.2em;position: relative;}#sk-container-id-8 div.sk-item {position: relative;z-index: 1;}#sk-container-id-8 div.sk-parallel {display: flex;align-items: stretch;justify-content: center;background-color: white;position: relative;}#sk-container-id-8 div.sk-item::before, #sk-container-id-8 div.sk-parallel-item::before {content: \"\";position: absolute;border-left: 1px solid gray;box-sizing: border-box;top: 0;bottom: 0;left: 50%;z-index: -1;}#sk-container-id-8 div.sk-parallel-item {display: flex;flex-direction: column;z-index: 1;position: relative;background-color: white;}#sk-container-id-8 div.sk-parallel-item:first-child::after {align-self: flex-end;width: 50%;}#sk-container-id-8 div.sk-parallel-item:last-child::after {align-self: flex-start;width: 50%;}#sk-container-id-8 div.sk-parallel-item:only-child::after {width: 0;}#sk-container-id-8 div.sk-dashed-wrapped {border: 1px dashed gray;margin: 0 0.4em 0.5em 0.4em;box-sizing: border-box;padding-bottom: 0.4em;background-color: white;}#sk-container-id-8 div.sk-label label {font-family: monospace;font-weight: bold;display: inline-block;line-height: 1.2em;}#sk-container-id-8 div.sk-label-container {text-align: center;}#sk-container-id-8 div.sk-container {/* jupyter's `normalize.less` sets `[hidden] { display: none; }` but bootstrap.min.css set `[hidden] { display: none !important; }` so we also need the `!important` here to be able to override the default hidden behavior on the sphinx rendered scikit-learn.org. See: https://github.com/scikit-learn/scikit-learn/issues/21755 */display: inline-block !important;position: relative;}#sk-container-id-8 div.sk-text-repr-fallback {display: none;}</style><div id=\"sk-container-id-8\" class=\"sk-top-container\"><div class=\"sk-text-repr-fallback\"><pre>GridSearchCV(cv=5,\n",
       "             estimator=Pipeline(steps=[(&#x27;ctx&#x27;,\n",
       "                                        ColumnTransformer(transformers=[(&#x27;cvec&#x27;,\n",
       "                                                                         CountVectorizer(max_features=3000,\n",
       "                                                                                         min_df=2,\n",
       "                                                                                         ngram_range=(1,\n",
       "                                                                                                      4)),\n",
       "                                                                         &#x27;title&#x27;),\n",
       "                                                                        (&#x27;cvec1&#x27;,\n",
       "                                                                         CountVectorizer(max_features=3000,\n",
       "                                                                                         min_df=2,\n",
       "                                                                                         ngram_range=(1,\n",
       "                                                                                                      4)),\n",
       "                                                                         &#x27;domain&#x27;)])),\n",
       "                                       (&#x27;to_dense&#x27;, DenseTransformer()),\n",
       "                                       (&#x27;model&#x27;, MultinomialNB())]),\n",
       "             param_grid={&#x27;ctx__cvec1__max_features&#x27;: [2500, 3000, 3500],\n",
       "                         &#x27;ctx__cvec1__min_df&#x27;: [2],\n",
       "                         &#x27;ctx__cvec1__ngram_range&#x27;: [(1, 2), (1, 3), (1, 4)],\n",
       "                         &#x27;ctx__cvec1__stop_words&#x27;: [None, &#x27;english&#x27;],\n",
       "                         &#x27;ctx__cvec__max_features&#x27;: [2500, 3000, 3500],\n",
       "                         &#x27;ctx__cvec__min_df&#x27;: [2],\n",
       "                         &#x27;ctx__cvec__ngram_range&#x27;: [(1, 2), (1, 3), (1, 4)],\n",
       "                         &#x27;ctx__cvec__stop_words&#x27;: [None, &#x27;english&#x27;],\n",
       "                         &#x27;model__alpha&#x27;: [1.0, 2.0, 3.0]})</pre><b>In a Jupyter environment, please rerun this cell to show the HTML representation or trust the notebook. <br />On GitHub, the HTML representation is unable to render, please try loading this page with nbviewer.org.</b></div><div class=\"sk-container\" hidden><div class=\"sk-item sk-dashed-wrapped\"><div class=\"sk-label-container\"><div class=\"sk-label sk-toggleable\"><input class=\"sk-toggleable__control sk-hidden--visually\" id=\"sk-estimator-id-39\" type=\"checkbox\" ><label for=\"sk-estimator-id-39\" class=\"sk-toggleable__label sk-toggleable__label-arrow\">GridSearchCV</label><div class=\"sk-toggleable__content\"><pre>GridSearchCV(cv=5,\n",
       "             estimator=Pipeline(steps=[(&#x27;ctx&#x27;,\n",
       "                                        ColumnTransformer(transformers=[(&#x27;cvec&#x27;,\n",
       "                                                                         CountVectorizer(max_features=3000,\n",
       "                                                                                         min_df=2,\n",
       "                                                                                         ngram_range=(1,\n",
       "                                                                                                      4)),\n",
       "                                                                         &#x27;title&#x27;),\n",
       "                                                                        (&#x27;cvec1&#x27;,\n",
       "                                                                         CountVectorizer(max_features=3000,\n",
       "                                                                                         min_df=2,\n",
       "                                                                                         ngram_range=(1,\n",
       "                                                                                                      4)),\n",
       "                                                                         &#x27;domain&#x27;)])),\n",
       "                                       (&#x27;to_dense&#x27;, DenseTransformer()),\n",
       "                                       (&#x27;model&#x27;, MultinomialNB())]),\n",
       "             param_grid={&#x27;ctx__cvec1__max_features&#x27;: [2500, 3000, 3500],\n",
       "                         &#x27;ctx__cvec1__min_df&#x27;: [2],\n",
       "                         &#x27;ctx__cvec1__ngram_range&#x27;: [(1, 2), (1, 3), (1, 4)],\n",
       "                         &#x27;ctx__cvec1__stop_words&#x27;: [None, &#x27;english&#x27;],\n",
       "                         &#x27;ctx__cvec__max_features&#x27;: [2500, 3000, 3500],\n",
       "                         &#x27;ctx__cvec__min_df&#x27;: [2],\n",
       "                         &#x27;ctx__cvec__ngram_range&#x27;: [(1, 2), (1, 3), (1, 4)],\n",
       "                         &#x27;ctx__cvec__stop_words&#x27;: [None, &#x27;english&#x27;],\n",
       "                         &#x27;model__alpha&#x27;: [1.0, 2.0, 3.0]})</pre></div></div></div><div class=\"sk-parallel\"><div class=\"sk-parallel-item\"><div class=\"sk-item\"><div class=\"sk-label-container\"><div class=\"sk-label sk-toggleable\"><input class=\"sk-toggleable__control sk-hidden--visually\" id=\"sk-estimator-id-40\" type=\"checkbox\" ><label for=\"sk-estimator-id-40\" class=\"sk-toggleable__label sk-toggleable__label-arrow\">estimator: Pipeline</label><div class=\"sk-toggleable__content\"><pre>Pipeline(steps=[(&#x27;ctx&#x27;,\n",
       "                 ColumnTransformer(transformers=[(&#x27;cvec&#x27;,\n",
       "                                                  CountVectorizer(max_features=3000,\n",
       "                                                                  min_df=2,\n",
       "                                                                  ngram_range=(1,\n",
       "                                                                               4)),\n",
       "                                                  &#x27;title&#x27;),\n",
       "                                                 (&#x27;cvec1&#x27;,\n",
       "                                                  CountVectorizer(max_features=3000,\n",
       "                                                                  min_df=2,\n",
       "                                                                  ngram_range=(1,\n",
       "                                                                               4)),\n",
       "                                                  &#x27;domain&#x27;)])),\n",
       "                (&#x27;to_dense&#x27;, DenseTransformer()), (&#x27;model&#x27;, MultinomialNB())])</pre></div></div></div><div class=\"sk-serial\"><div class=\"sk-item\"><div class=\"sk-serial\"><div class=\"sk-item sk-dashed-wrapped\"><div class=\"sk-label-container\"><div class=\"sk-label sk-toggleable\"><input class=\"sk-toggleable__control sk-hidden--visually\" id=\"sk-estimator-id-41\" type=\"checkbox\" ><label for=\"sk-estimator-id-41\" class=\"sk-toggleable__label sk-toggleable__label-arrow\">ctx: ColumnTransformer</label><div class=\"sk-toggleable__content\"><pre>ColumnTransformer(transformers=[(&#x27;cvec&#x27;,\n",
       "                                 CountVectorizer(max_features=3000, min_df=2,\n",
       "                                                 ngram_range=(1, 4)),\n",
       "                                 &#x27;title&#x27;),\n",
       "                                (&#x27;cvec1&#x27;,\n",
       "                                 CountVectorizer(max_features=3000, min_df=2,\n",
       "                                                 ngram_range=(1, 4)),\n",
       "                                 &#x27;domain&#x27;)])</pre></div></div></div><div class=\"sk-parallel\"><div class=\"sk-parallel-item\"><div class=\"sk-item\"><div class=\"sk-label-container\"><div class=\"sk-label sk-toggleable\"><input class=\"sk-toggleable__control sk-hidden--visually\" id=\"sk-estimator-id-42\" type=\"checkbox\" ><label for=\"sk-estimator-id-42\" class=\"sk-toggleable__label sk-toggleable__label-arrow\">cvec</label><div class=\"sk-toggleable__content\"><pre>title</pre></div></div></div><div class=\"sk-serial\"><div class=\"sk-item\"><div class=\"sk-estimator sk-toggleable\"><input class=\"sk-toggleable__control sk-hidden--visually\" id=\"sk-estimator-id-43\" type=\"checkbox\" ><label for=\"sk-estimator-id-43\" class=\"sk-toggleable__label sk-toggleable__label-arrow\">CountVectorizer</label><div class=\"sk-toggleable__content\"><pre>CountVectorizer(max_features=3000, min_df=2, ngram_range=(1, 4))</pre></div></div></div></div></div></div><div class=\"sk-parallel-item\"><div class=\"sk-item\"><div class=\"sk-label-container\"><div class=\"sk-label sk-toggleable\"><input class=\"sk-toggleable__control sk-hidden--visually\" id=\"sk-estimator-id-44\" type=\"checkbox\" ><label for=\"sk-estimator-id-44\" class=\"sk-toggleable__label sk-toggleable__label-arrow\">cvec1</label><div class=\"sk-toggleable__content\"><pre>domain</pre></div></div></div><div class=\"sk-serial\"><div class=\"sk-item\"><div class=\"sk-estimator sk-toggleable\"><input class=\"sk-toggleable__control sk-hidden--visually\" id=\"sk-estimator-id-45\" type=\"checkbox\" ><label for=\"sk-estimator-id-45\" class=\"sk-toggleable__label sk-toggleable__label-arrow\">CountVectorizer</label><div class=\"sk-toggleable__content\"><pre>CountVectorizer(max_features=3000, min_df=2, ngram_range=(1, 4))</pre></div></div></div></div></div></div></div></div><div class=\"sk-item\"><div class=\"sk-estimator sk-toggleable\"><input class=\"sk-toggleable__control sk-hidden--visually\" id=\"sk-estimator-id-46\" type=\"checkbox\" ><label for=\"sk-estimator-id-46\" class=\"sk-toggleable__label sk-toggleable__label-arrow\">DenseTransformer</label><div class=\"sk-toggleable__content\"><pre>DenseTransformer()</pre></div></div></div><div class=\"sk-item\"><div class=\"sk-estimator sk-toggleable\"><input class=\"sk-toggleable__control sk-hidden--visually\" id=\"sk-estimator-id-47\" type=\"checkbox\" ><label for=\"sk-estimator-id-47\" class=\"sk-toggleable__label sk-toggleable__label-arrow\">MultinomialNB</label><div class=\"sk-toggleable__content\"><pre>MultinomialNB()</pre></div></div></div></div></div></div></div></div></div></div></div></div>"
      ],
      "text/plain": [
       "GridSearchCV(cv=5,\n",
       "             estimator=Pipeline(steps=[('ctx',\n",
       "                                        ColumnTransformer(transformers=[('cvec',\n",
       "                                                                         CountVectorizer(max_features=3000,\n",
       "                                                                                         min_df=2,\n",
       "                                                                                         ngram_range=(1,\n",
       "                                                                                                      4)),\n",
       "                                                                         'title'),\n",
       "                                                                        ('cvec1',\n",
       "                                                                         CountVectorizer(max_features=3000,\n",
       "                                                                                         min_df=2,\n",
       "                                                                                         ngram_range=(1,\n",
       "                                                                                                      4)),\n",
       "                                                                         'domain')])),\n",
       "                                       ('to_dense', DenseTransformer()),\n",
       "                                       ('model', MultinomialNB())]),\n",
       "             param_grid={'ctx__cvec1__max_features': [2500, 3000, 3500],\n",
       "                         'ctx__cvec1__min_df': [2],\n",
       "                         'ctx__cvec1__ngram_range': [(1, 2), (1, 3), (1, 4)],\n",
       "                         'ctx__cvec1__stop_words': [None, 'english'],\n",
       "                         'ctx__cvec__max_features': [2500, 3000, 3500],\n",
       "                         'ctx__cvec__min_df': [2],\n",
       "                         'ctx__cvec__ngram_range': [(1, 2), (1, 3), (1, 4)],\n",
       "                         'ctx__cvec__stop_words': [None, 'english'],\n",
       "                         'model__alpha': [1.0, 2.0, 3.0]})"
      ]
     },
     "execution_count": 58,
     "metadata": {},
     "output_type": "execute_result"
    }
   ],
   "source": [
    "big_pipe_gs.fit(X_train, y_train)"
   ]
  },
  {
   "cell_type": "code",
   "execution_count": 42,
   "id": "94f2eb54-9a64-4fab-aefc-af54ee40a369",
   "metadata": {
    "tags": []
   },
   "outputs": [],
   "source": [
    "# Assign X, y variables then perform testtrain split\n",
    "X = dvr[['title', 'domain']]\n",
    "y = dvr['subreddit']\n",
    "X_train, X_test, y_train, y_test = train_test_split(X, y, random_state = 42)\n",
    "\n",
    "# Instantiate ColumnTransformer to apply CountVectorizer to 'title' and 'domain'\n",
    "ctx = ColumnTransformer(transformers = [\n",
    "    ('cvec', CountVectorizer(min_df = 2, ngram_range = (1, 4), max_features = 3000), 'title'),\n",
    "    ('ohe', OneHotEncoder(handle_unknown = 'ignore'), ['domain'])\n",
    "])\n",
    "\n",
    "# Instantiate Pipeline with ColumnTransformer, DenseTransformer, and MultinomialNB estimator\n",
    "big_pipe = Pipeline(steps = [\n",
    "    ('ctx', ctx),\n",
    "    ('to_dense', DenseTransformer()),\n",
    "    ('model', MultinomialNB())\n",
    "])"
   ]
  },
  {
   "cell_type": "code",
   "execution_count": 43,
   "id": "ba3e0236-59d5-4925-b81a-57db2f45a855",
   "metadata": {
    "tags": []
   },
   "outputs": [
    {
     "data": {
      "text/plain": [
       "{'fit_time': array([0.19160795, 0.15405583, 0.15996695, 0.1550374 , 0.15157604]),\n",
       " 'score_time': array([0.03862095, 0.02705598, 0.02914786, 0.02958775, 0.02705002]),\n",
       " 'test_score': array([0.89189189, 0.86877828, 0.85972851, 0.87330317, 0.87330317]),\n",
       " 'train_score': array([0.97285068, 0.9819209 , 0.9740113 , 0.97627119, 0.97175141])}"
      ]
     },
     "execution_count": 43,
     "metadata": {},
     "output_type": "execute_result"
    }
   ],
   "source": [
    "results = cross_validate(big_pipe, X_train, y_train, return_train_score = True)\n",
    "results"
   ]
  },
  {
   "cell_type": "markdown",
   "id": "b556623f-35dc-4b00-af2a-69f9ebdc472b",
   "metadata": {
    "tags": []
   },
   "source": [
    "added above code up to line after submission\n",
    "-"
   ]
  },
  {
   "cell_type": "code",
   "execution_count": 23,
   "id": "a2ceb564-e04e-4319-9a08-0b93f3a4f89f",
   "metadata": {
    "tags": []
   },
   "outputs": [
    {
     "data": {
      "text/html": [
       "<style>#sk-container-id-7 {color: black;}#sk-container-id-7 pre{padding: 0;}#sk-container-id-7 div.sk-toggleable {background-color: white;}#sk-container-id-7 label.sk-toggleable__label {cursor: pointer;display: block;width: 100%;margin-bottom: 0;padding: 0.3em;box-sizing: border-box;text-align: center;}#sk-container-id-7 label.sk-toggleable__label-arrow:before {content: \"▸\";float: left;margin-right: 0.25em;color: #696969;}#sk-container-id-7 label.sk-toggleable__label-arrow:hover:before {color: black;}#sk-container-id-7 div.sk-estimator:hover label.sk-toggleable__label-arrow:before {color: black;}#sk-container-id-7 div.sk-toggleable__content {max-height: 0;max-width: 0;overflow: hidden;text-align: left;background-color: #f0f8ff;}#sk-container-id-7 div.sk-toggleable__content pre {margin: 0.2em;color: black;border-radius: 0.25em;background-color: #f0f8ff;}#sk-container-id-7 input.sk-toggleable__control:checked~div.sk-toggleable__content {max-height: 200px;max-width: 100%;overflow: auto;}#sk-container-id-7 input.sk-toggleable__control:checked~label.sk-toggleable__label-arrow:before {content: \"▾\";}#sk-container-id-7 div.sk-estimator input.sk-toggleable__control:checked~label.sk-toggleable__label {background-color: #d4ebff;}#sk-container-id-7 div.sk-label input.sk-toggleable__control:checked~label.sk-toggleable__label {background-color: #d4ebff;}#sk-container-id-7 input.sk-hidden--visually {border: 0;clip: rect(1px 1px 1px 1px);clip: rect(1px, 1px, 1px, 1px);height: 1px;margin: -1px;overflow: hidden;padding: 0;position: absolute;width: 1px;}#sk-container-id-7 div.sk-estimator {font-family: monospace;background-color: #f0f8ff;border: 1px dotted black;border-radius: 0.25em;box-sizing: border-box;margin-bottom: 0.5em;}#sk-container-id-7 div.sk-estimator:hover {background-color: #d4ebff;}#sk-container-id-7 div.sk-parallel-item::after {content: \"\";width: 100%;border-bottom: 1px solid gray;flex-grow: 1;}#sk-container-id-7 div.sk-label:hover label.sk-toggleable__label {background-color: #d4ebff;}#sk-container-id-7 div.sk-serial::before {content: \"\";position: absolute;border-left: 1px solid gray;box-sizing: border-box;top: 0;bottom: 0;left: 50%;z-index: 0;}#sk-container-id-7 div.sk-serial {display: flex;flex-direction: column;align-items: center;background-color: white;padding-right: 0.2em;padding-left: 0.2em;position: relative;}#sk-container-id-7 div.sk-item {position: relative;z-index: 1;}#sk-container-id-7 div.sk-parallel {display: flex;align-items: stretch;justify-content: center;background-color: white;position: relative;}#sk-container-id-7 div.sk-item::before, #sk-container-id-7 div.sk-parallel-item::before {content: \"\";position: absolute;border-left: 1px solid gray;box-sizing: border-box;top: 0;bottom: 0;left: 50%;z-index: -1;}#sk-container-id-7 div.sk-parallel-item {display: flex;flex-direction: column;z-index: 1;position: relative;background-color: white;}#sk-container-id-7 div.sk-parallel-item:first-child::after {align-self: flex-end;width: 50%;}#sk-container-id-7 div.sk-parallel-item:last-child::after {align-self: flex-start;width: 50%;}#sk-container-id-7 div.sk-parallel-item:only-child::after {width: 0;}#sk-container-id-7 div.sk-dashed-wrapped {border: 1px dashed gray;margin: 0 0.4em 0.5em 0.4em;box-sizing: border-box;padding-bottom: 0.4em;background-color: white;}#sk-container-id-7 div.sk-label label {font-family: monospace;font-weight: bold;display: inline-block;line-height: 1.2em;}#sk-container-id-7 div.sk-label-container {text-align: center;}#sk-container-id-7 div.sk-container {/* jupyter's `normalize.less` sets `[hidden] { display: none; }` but bootstrap.min.css set `[hidden] { display: none !important; }` so we also need the `!important` here to be able to override the default hidden behavior on the sphinx rendered scikit-learn.org. See: https://github.com/scikit-learn/scikit-learn/issues/21755 */display: inline-block !important;position: relative;}#sk-container-id-7 div.sk-text-repr-fallback {display: none;}</style><div id=\"sk-container-id-7\" class=\"sk-top-container\"><div class=\"sk-text-repr-fallback\"><pre>Pipeline(steps=[(&#x27;ctx&#x27;,\n",
       "                 ColumnTransformer(transformers=[(&#x27;cvec&#x27;,\n",
       "                                                  CountVectorizer(max_features=3000,\n",
       "                                                                  min_df=2,\n",
       "                                                                  ngram_range=(1,\n",
       "                                                                               4)),\n",
       "                                                  &#x27;title&#x27;),\n",
       "                                                 (&#x27;cvec1&#x27;,\n",
       "                                                  CountVectorizer(max_features=3000,\n",
       "                                                                  min_df=2,\n",
       "                                                                  ngram_range=(1,\n",
       "                                                                               4)),\n",
       "                                                  &#x27;domain&#x27;)])),\n",
       "                (&#x27;to_dense&#x27;, DenseTransformer()), (&#x27;model&#x27;, MultinomialNB())])</pre><b>In a Jupyter environment, please rerun this cell to show the HTML representation or trust the notebook. <br />On GitHub, the HTML representation is unable to render, please try loading this page with nbviewer.org.</b></div><div class=\"sk-container\" hidden><div class=\"sk-item sk-dashed-wrapped\"><div class=\"sk-label-container\"><div class=\"sk-label sk-toggleable\"><input class=\"sk-toggleable__control sk-hidden--visually\" id=\"sk-estimator-id-31\" type=\"checkbox\" ><label for=\"sk-estimator-id-31\" class=\"sk-toggleable__label sk-toggleable__label-arrow\">Pipeline</label><div class=\"sk-toggleable__content\"><pre>Pipeline(steps=[(&#x27;ctx&#x27;,\n",
       "                 ColumnTransformer(transformers=[(&#x27;cvec&#x27;,\n",
       "                                                  CountVectorizer(max_features=3000,\n",
       "                                                                  min_df=2,\n",
       "                                                                  ngram_range=(1,\n",
       "                                                                               4)),\n",
       "                                                  &#x27;title&#x27;),\n",
       "                                                 (&#x27;cvec1&#x27;,\n",
       "                                                  CountVectorizer(max_features=3000,\n",
       "                                                                  min_df=2,\n",
       "                                                                  ngram_range=(1,\n",
       "                                                                               4)),\n",
       "                                                  &#x27;domain&#x27;)])),\n",
       "                (&#x27;to_dense&#x27;, DenseTransformer()), (&#x27;model&#x27;, MultinomialNB())])</pre></div></div></div><div class=\"sk-serial\"><div class=\"sk-item sk-dashed-wrapped\"><div class=\"sk-label-container\"><div class=\"sk-label sk-toggleable\"><input class=\"sk-toggleable__control sk-hidden--visually\" id=\"sk-estimator-id-32\" type=\"checkbox\" ><label for=\"sk-estimator-id-32\" class=\"sk-toggleable__label sk-toggleable__label-arrow\">ctx: ColumnTransformer</label><div class=\"sk-toggleable__content\"><pre>ColumnTransformer(transformers=[(&#x27;cvec&#x27;,\n",
       "                                 CountVectorizer(max_features=3000, min_df=2,\n",
       "                                                 ngram_range=(1, 4)),\n",
       "                                 &#x27;title&#x27;),\n",
       "                                (&#x27;cvec1&#x27;,\n",
       "                                 CountVectorizer(max_features=3000, min_df=2,\n",
       "                                                 ngram_range=(1, 4)),\n",
       "                                 &#x27;domain&#x27;)])</pre></div></div></div><div class=\"sk-parallel\"><div class=\"sk-parallel-item\"><div class=\"sk-item\"><div class=\"sk-label-container\"><div class=\"sk-label sk-toggleable\"><input class=\"sk-toggleable__control sk-hidden--visually\" id=\"sk-estimator-id-33\" type=\"checkbox\" ><label for=\"sk-estimator-id-33\" class=\"sk-toggleable__label sk-toggleable__label-arrow\">cvec</label><div class=\"sk-toggleable__content\"><pre>title</pre></div></div></div><div class=\"sk-serial\"><div class=\"sk-item\"><div class=\"sk-estimator sk-toggleable\"><input class=\"sk-toggleable__control sk-hidden--visually\" id=\"sk-estimator-id-34\" type=\"checkbox\" ><label for=\"sk-estimator-id-34\" class=\"sk-toggleable__label sk-toggleable__label-arrow\">CountVectorizer</label><div class=\"sk-toggleable__content\"><pre>CountVectorizer(max_features=3000, min_df=2, ngram_range=(1, 4))</pre></div></div></div></div></div></div><div class=\"sk-parallel-item\"><div class=\"sk-item\"><div class=\"sk-label-container\"><div class=\"sk-label sk-toggleable\"><input class=\"sk-toggleable__control sk-hidden--visually\" id=\"sk-estimator-id-35\" type=\"checkbox\" ><label for=\"sk-estimator-id-35\" class=\"sk-toggleable__label sk-toggleable__label-arrow\">cvec1</label><div class=\"sk-toggleable__content\"><pre>domain</pre></div></div></div><div class=\"sk-serial\"><div class=\"sk-item\"><div class=\"sk-estimator sk-toggleable\"><input class=\"sk-toggleable__control sk-hidden--visually\" id=\"sk-estimator-id-36\" type=\"checkbox\" ><label for=\"sk-estimator-id-36\" class=\"sk-toggleable__label sk-toggleable__label-arrow\">CountVectorizer</label><div class=\"sk-toggleable__content\"><pre>CountVectorizer(max_features=3000, min_df=2, ngram_range=(1, 4))</pre></div></div></div></div></div></div></div></div><div class=\"sk-item\"><div class=\"sk-estimator sk-toggleable\"><input class=\"sk-toggleable__control sk-hidden--visually\" id=\"sk-estimator-id-37\" type=\"checkbox\" ><label for=\"sk-estimator-id-37\" class=\"sk-toggleable__label sk-toggleable__label-arrow\">DenseTransformer</label><div class=\"sk-toggleable__content\"><pre>DenseTransformer()</pre></div></div></div><div class=\"sk-item\"><div class=\"sk-estimator sk-toggleable\"><input class=\"sk-toggleable__control sk-hidden--visually\" id=\"sk-estimator-id-38\" type=\"checkbox\" ><label for=\"sk-estimator-id-38\" class=\"sk-toggleable__label sk-toggleable__label-arrow\">MultinomialNB</label><div class=\"sk-toggleable__content\"><pre>MultinomialNB()</pre></div></div></div></div></div></div></div>"
      ],
      "text/plain": [
       "Pipeline(steps=[('ctx',\n",
       "                 ColumnTransformer(transformers=[('cvec',\n",
       "                                                  CountVectorizer(max_features=3000,\n",
       "                                                                  min_df=2,\n",
       "                                                                  ngram_range=(1,\n",
       "                                                                               4)),\n",
       "                                                  'title'),\n",
       "                                                 ('cvec1',\n",
       "                                                  CountVectorizer(max_features=3000,\n",
       "                                                                  min_df=2,\n",
       "                                                                  ngram_range=(1,\n",
       "                                                                               4)),\n",
       "                                                  'domain')])),\n",
       "                ('to_dense', DenseTransformer()), ('model', MultinomialNB())])"
      ]
     },
     "execution_count": 23,
     "metadata": {},
     "output_type": "execute_result"
    }
   ],
   "source": [
    "# Used DenseTransformer in lieu of to_dense to do everything in a pipeline\n",
    "\n",
    "big_pipe.fit(X_train, y_train)"
   ]
  },
  {
   "cell_type": "markdown",
   "id": "426765d1-48fb-41c9-a59f-19cf717e9ca5",
   "metadata": {},
   "source": [
    "## Evaluate Production Model"
   ]
  },
  {
   "cell_type": "code",
   "execution_count": 24,
   "id": "eb1cc04f-a222-41eb-bd5b-978a1d6010ea",
   "metadata": {
    "tags": []
   },
   "outputs": [
    {
     "data": {
      "image/png": "[encoded data removed]",
      "text/plain": [
       "<Figure size 640x480 with 2 Axes>"
      ]
     },
     "metadata": {},
     "output_type": "display_data"
    }
   ],
   "source": [
    "# Calculate predictions, output confusion matrix\n",
    "\n",
    "preds = big_pipe.predict(X_test)\n",
    "ConfusionMatrixDisplay.from_estimator(big_pipe, X_test, y_test)\n",
    "plt.title('democrats/Republican Confusion Matrix');"
   ]
  },
  {
   "cell_type": "markdown",
   "id": "298836b1-5abf-48d9-b6ce-a0927a1c58b4",
   "metadata": {},
   "source": [
    "#### Observation\n",
    "The production model is 92% accurate on the test data having roughly twice as many false Democrat predictions as Republican predictions. There are two users whom have posted to both subreddits which may account for, at least some of, the false negatives.   "
   ]
  },
  {
   "cell_type": "code",
   "execution_count": 25,
   "id": "74691f0c-0bd6-4745-8948-fed544dbb435",
   "metadata": {
    "tags": []
   },
   "outputs": [
    {
     "name": "stdout",
     "output_type": "stream",
     "text": [
      "Train Score: 0.977\n",
      "Test Score: 0.916\n",
      "Accuracy: 0.916\n",
      "Specificity: 0.889\n",
      "Recall: 0.947\n",
      "Precision: 0.88\n",
      "F1: 0.913\n"
     ]
    }
   ],
   "source": [
    "# Calculate Classification Metrics\n",
    "\n",
    "tn, fp, fn, tp = confusion_matrix(y_test, preds).ravel()\n",
    "print(f'Train Score: {big_pipe.score(X_train, y_train).round(3)}')\n",
    "print(f'Test Score: {big_pipe.score(X_test, y_test).round(3)}')\n",
    "print(f'Accuracy: {accuracy_score(y_test, preds).round(3)}')\n",
    "print(f'Specificity: {(tn / (tn + fp)).round(3)}')\n",
    "print(f'Recall: {recall_score(y_test, preds, pos_label = \"democrats\").round(3)}')\n",
    "print(f'Precision: {precision_score(y_test, preds, pos_label = \"democrats\").round(3)}')\n",
    "print(f'F1: {f1_score(y_test, preds, pos_label = \"democrats\").round(3)}')"
   ]
  },
  {
   "cell_type": "markdown",
   "id": "879f9c24-8a0f-4f3f-9232-711a37aefde9",
   "metadata": {},
   "source": [
    "#### Observation\n",
    "The production model is slightly more sensitve than specific resulting in a model that predicts actual positives (democrats) slightly better than actual negatives (Republican). "
   ]
  },
  {
   "cell_type": "code",
   "execution_count": 26,
   "id": "1098e20f-4adb-4ba2-8bb7-2a74e080e894",
   "metadata": {
    "tags": []
   },
   "outputs": [
    {
     "data": {
      "text/html": [
       "<div>\n",
       "<style scoped>\n",
       "    .dataframe tbody tr th:only-of-type {\n",
       "        vertical-align: middle;\n",
       "    }\n",
       "\n",
       "    .dataframe tbody tr th {\n",
       "        vertical-align: top;\n",
       "    }\n",
       "\n",
       "    .dataframe thead th {\n",
       "        text-align: right;\n",
       "    }\n",
       "</style>\n",
       "<table border=\"1\" class=\"dataframe\">\n",
       "  <thead>\n",
       "    <tr style=\"text-align: right;\">\n",
       "      <th></th>\n",
       "      <th>p(Republican)</th>\n",
       "      <th>p(democrats)</th>\n",
       "      <th>true_values</th>\n",
       "    </tr>\n",
       "  </thead>\n",
       "  <tbody>\n",
       "    <tr>\n",
       "      <th>0</th>\n",
       "      <td>0.023705</td>\n",
       "      <td>9.762950e-01</td>\n",
       "      <td>democrats</td>\n",
       "    </tr>\n",
       "    <tr>\n",
       "      <th>1</th>\n",
       "      <td>0.999999</td>\n",
       "      <td>9.863304e-07</td>\n",
       "      <td>Republican</td>\n",
       "    </tr>\n",
       "    <tr>\n",
       "      <th>2</th>\n",
       "      <td>0.003478</td>\n",
       "      <td>9.965223e-01</td>\n",
       "      <td>democrats</td>\n",
       "    </tr>\n",
       "    <tr>\n",
       "      <th>3</th>\n",
       "      <td>0.002043</td>\n",
       "      <td>9.979569e-01</td>\n",
       "      <td>democrats</td>\n",
       "    </tr>\n",
       "    <tr>\n",
       "      <th>4</th>\n",
       "      <td>0.999034</td>\n",
       "      <td>9.663174e-04</td>\n",
       "      <td>Republican</td>\n",
       "    </tr>\n",
       "  </tbody>\n",
       "</table>\n",
       "</div>"
      ],
      "text/plain": [
       "   p(Republican)  p(democrats) true_values\n",
       "0       0.023705  9.762950e-01   democrats\n",
       "1       0.999999  9.863304e-07  Republican\n",
       "2       0.003478  9.965223e-01   democrats\n",
       "3       0.002043  9.979569e-01   democrats\n",
       "4       0.999034  9.663174e-04  Republican"
      ]
     },
     "execution_count": 26,
     "metadata": {},
     "output_type": "execute_result"
    }
   ],
   "source": [
    "# Generate prediction dataframe\n",
    "\n",
    "pred_df = pd.DataFrame(\n",
    "    big_pipe.predict_proba(X_test),\n",
    "    columns=['p(Republican)', 'p(democrats)'])\n",
    "\n",
    "pred_df['true_values'] = y_test.values\n",
    "\n",
    "pred_df.head()"
   ]
  },
  {
   "cell_type": "code",
   "execution_count": 27,
   "id": "050d636f-d3d6-4ed1-a73a-b92cafd76bd4",
   "metadata": {
    "tags": []
   },
   "outputs": [
    {
     "data": {
      "image/png": "[encoded data removed]",
      "text/plain": [
       "<Figure size 1200x500 with 1 Axes>"
      ]
     },
     "metadata": {},
     "output_type": "display_data"
    }
   ],
   "source": [
    "# Generate Histogram of predicted probabilities\n",
    "\n",
    "plt.figure(figsize = (12, 5))\n",
    "\n",
    "rep_sub = pred_df[pred_df['true_values'] == 'Republican']\n",
    "plt.hist(rep_sub['p(democrats)'], label = 'Republican', bins = 20, alpha = .5)\n",
    "\n",
    "dem_sub = pred_df[pred_df['true_values'] == 'democrats']\n",
    "plt.hist(dem_sub['p(democrats)'], label='democrats', bins=20, alpha=.8)\n",
    "\n",
    "plt.xlabel('Predicted probability of outcome = democrats')\n",
    "plt.title('Republican/Democrat Predicted Probabilities')\n",
    "plt.legend();"
   ]
  },
  {
   "cell_type": "markdown",
   "id": "811ba89c-7691-4871-982c-7a2bd35a4aaa",
   "metadata": {},
   "source": [
    "#### Observation\n",
    "This histogram illustrates the 92% accuracy score of the model with the vast majority of each class on their respective sides with 'Republican' faring slightly worse than 'democrat'.  "
   ]
  },
  {
   "cell_type": "code",
   "execution_count": 28,
   "id": "ef83926d-ed21-4376-9372-60341235369b",
   "metadata": {
    "tags": []
   },
   "outputs": [
    {
     "data": {
      "image/png": "[encoded data removed]",
      "text/plain": [
       "<Figure size 640x480 with 1 Axes>"
      ]
     },
     "metadata": {},
     "output_type": "display_data"
    }
   ],
   "source": [
    "# Generate ROC AUC curve with 50% line\n",
    "RocCurveDisplay.from_estimator(big_pipe, X_test, y_test)\n",
    "\n",
    "plt.plot([0, 1], [0, 1],\n",
    "        label = 'no predictive value',\n",
    "        linestyle = '--',\n",
    "        color = 'orange')\n",
    "plt.title('Democrat vs Republican ROC AUC Curve')\n",
    "plt.legend();"
   ]
  },
  {
   "cell_type": "markdown",
   "id": "1ba5436c-d661-49b3-b91e-84ae5f133dba",
   "metadata": {
    "tags": []
   },
   "source": [
    "#### Observation\n",
    "An ROC AUC score of 0.97 illustrates that our positive (democrats) and negative (Republican) classes are nearly perfectly seperated; much like we see in the media today."
   ]
  },
  {
   "cell_type": "markdown",
   "id": "19cd2a13-6598-4acc-9f4d-80e0799ccf5e",
   "metadata": {},
   "source": [
    "# Conclusions and Recommendations"
   ]
  },
  {
   "cell_type": "markdown",
   "id": "b52dfd3e-1b4f-40a8-b0f8-6bc77b55ebbd",
   "metadata": {},
   "source": [
    "**Conclusions:** Performing EDA on the scraped data confirmed some assumptions I already had.  First, we as as population are heavily divided along partisan lines with only two users in this dataset choosing to explore the 'other side'.  Second, media outlets tend to cater to one side of the political spectrum or the other with zero overlap between Republican and Democrat media sources.  It is fairly safe to assume that this stark division in the media may be, at least partially, at fault for the growing division in the population.\n",
    "\n",
    "By comparing three models, with two different transformers, then iterating over hyper-parameters to optimize accuracy, a nearly 75% accuracy rate was achieved by modeling the news article titles alone.  In a world with a purely objective, un-biased media one could assume accuracy would be 50%, given a dataset with equal representation from both sides of the political spectrum ie. the base case.  When news source was added to the model pipeline, accuracy increased to 92%.  Given this dataset, and the current media landscape, a simple list of right-leaning media versus left-leaning media would yield 100% accuracy rate."
   ]
  },
  {
   "cell_type": "markdown",
   "id": "8bc61f67-4bfd-4aec-bc07-d178eac84ac6",
   "metadata": {},
   "source": [
    "**Recommendations:**As opposed to having just two classes, left versus right, it may be more useful to use sentiment analysis on the 'titles' to quantify how different media outlets report on the same events.  With this information it may be possible to map a spectrum of political leanings, far left to far right, and everything in between.  "
   ]
  }
 ],
 "metadata": {
  "kernelspec": {
   "display_name": "Python 3 (ipykernel)",
   "language": "python",
   "name": "python3"
  },
  "language_info": {
   "codemirror_mode": {
    "name": "ipython",
    "version": 3
   },
   "file_extension": ".py",
   "mimetype": "text/x-python",
   "name": "python",
   "nbconvert_exporter": "python",
   "pygments_lexer": "ipython3",
   "version": "3.11.5"
  }
 },
 "nbformat": 4,
 "nbformat_minor": 5
}
