{
 "cells": [
  {
   "cell_type": "markdown",
   "id": "c16cdbac-7a57-4357-bdc1-7ac21c506127",
   "metadata": {},
   "source": [
    "<img src=\"http://imgur.com/1ZcRyrc.png\" style=\"float: left; margin: 20px; height: 55px\">\n",
    "\n",
    "# Project 3: Republican vs. Democrat Subbreddit Post Analysis"
   ]
  },
  {
   "cell_type": "markdown",
   "id": "08d9fe70-2f89-46ec-8876-d7e67fcd1ad4",
   "metadata": {},
   "source": [
    "## Problem Statement\n",
    "\n",
    "In this era of hyper-partisanship it can be difficult to identify the \"news worthiness\" of the news.  The responsibility to validate the information we consume falls to the consumer.  This process is difficult when the population is bombarded with a 24/7 news cycle that peddles editorials as news, and chooses what to report and how to report it based on which narritive it supports.  \n",
    "\n",
    "To this end two political subreddits were chosen, based on their subscriber count and content type, with the goal of producing an algorithm that can determine the source of a post and thus determine its political bias.  The 'democrats' subreddit was chosen to represent the liberal bias and has 435,000 subscribers with news articles accounting for the bulk of the posts.  The 'Republican' subreddit was chosen for the conservative bias and has 189,000 subscibers with posts containing primarily news articles.  "
   ]
  },
  {
   "cell_type": "markdown",
   "id": "70e44f64-11bb-4e25-bb28-af2bc5e5d38d",
   "metadata": {},
   "source": [
    "## 1.  Data Cleaning and EDA"
   ]
  },
  {
   "cell_type": "code",
   "execution_count": 3,
   "id": "e9aaa816-5b0d-4d00-9704-3f38a42213be",
   "metadata": {
    "tags": []
   },
   "outputs": [],
   "source": [
    "# Import libraries\n",
    "\n",
    "import pandas as pd\n",
    "import numpy as np\n",
    "import seaborn as sns\n",
    "import time\n",
    "import matplotlib.pyplot as plt"
   ]
  },
  {
   "cell_type": "code",
   "execution_count": 4,
   "id": "369282b0-5794-4f96-b192-69b9d59a765e",
   "metadata": {
    "tags": []
   },
   "outputs": [
    {
     "data": {
      "text/html": [
       "<div>\n",
       "<style scoped>\n",
       "    .dataframe tbody tr th:only-of-type {\n",
       "        vertical-align: middle;\n",
       "    }\n",
       "\n",
       "    .dataframe tbody tr th {\n",
       "        vertical-align: top;\n",
       "    }\n",
       "\n",
       "    .dataframe thead th {\n",
       "        text-align: right;\n",
       "    }\n",
       "</style>\n",
       "<table border=\"1\" class=\"dataframe\">\n",
       "  <thead>\n",
       "    <tr style=\"text-align: right;\">\n",
       "      <th></th>\n",
       "      <th>Unnamed: 0</th>\n",
       "      <th>title</th>\n",
       "      <th>domain</th>\n",
       "      <th>author</th>\n",
       "      <th>upvote_ratio</th>\n",
       "      <th>id</th>\n",
       "      <th>created_utc</th>\n",
       "      <th>subreddit</th>\n",
       "    </tr>\n",
       "  </thead>\n",
       "  <tbody>\n",
       "    <tr>\n",
       "      <th>0</th>\n",
       "      <td>0</td>\n",
       "      <td>Taylor Swift could save Joe Biden in 2024. No,...</td>\n",
       "      <td>msnbc.com</td>\n",
       "      <td>Gamecat93</td>\n",
       "      <td>0.92</td>\n",
       "      <td>18y4ejv</td>\n",
       "      <td>Wed Jan  3 20:38:17 2024</td>\n",
       "      <td>democrats</td>\n",
       "    </tr>\n",
       "    <tr>\n",
       "      <th>1</th>\n",
       "      <td>1</td>\n",
       "      <td>The Polls Prove It: Many Republicans Love Fascism</td>\n",
       "      <td>newrepublic.com</td>\n",
       "      <td>audiomuse1</td>\n",
       "      <td>0.93</td>\n",
       "      <td>18y3f93</td>\n",
       "      <td>Wed Jan  3 19:48:29 2024</td>\n",
       "      <td>democrats</td>\n",
       "    </tr>\n",
       "    <tr>\n",
       "      <th>2</th>\n",
       "      <td>2</td>\n",
       "      <td>A Far-Right Court Just Admitted a Truth That A...</td>\n",
       "      <td>slate.com</td>\n",
       "      <td>wenchette</td>\n",
       "      <td>0.97</td>\n",
       "      <td>18xxec5</td>\n",
       "      <td>Wed Jan  3 15:19:27 2024</td>\n",
       "      <td>democrats</td>\n",
       "    </tr>\n",
       "    <tr>\n",
       "      <th>3</th>\n",
       "      <td>3</td>\n",
       "      <td>Trump Asks Supreme Court to Keep Him on Colora...</td>\n",
       "      <td>nytimes.com</td>\n",
       "      <td>StandStillLaddie</td>\n",
       "      <td>0.92</td>\n",
       "      <td>18xw4gq</td>\n",
       "      <td>Wed Jan  3 14:28:20 2024</td>\n",
       "      <td>democrats</td>\n",
       "    </tr>\n",
       "    <tr>\n",
       "      <th>4</th>\n",
       "      <td>4</td>\n",
       "      <td>Donald Trump \"missing\" from Nevada ballot enra...</td>\n",
       "      <td>newsweek.com</td>\n",
       "      <td>vincevega87</td>\n",
       "      <td>0.98</td>\n",
       "      <td>18y80vn</td>\n",
       "      <td>Thu Jan  4 00:13:25 2024</td>\n",
       "      <td>democrats</td>\n",
       "    </tr>\n",
       "  </tbody>\n",
       "</table>\n",
       "</div>"
      ],
      "text/plain": [
       "   Unnamed: 0                                              title  \\\n",
       "0           0  Taylor Swift could save Joe Biden in 2024. No,...   \n",
       "1           1  The Polls Prove It: Many Republicans Love Fascism   \n",
       "2           2  A Far-Right Court Just Admitted a Truth That A...   \n",
       "3           3  Trump Asks Supreme Court to Keep Him on Colora...   \n",
       "4           4  Donald Trump \"missing\" from Nevada ballot enra...   \n",
       "\n",
       "            domain            author  upvote_ratio       id  \\\n",
       "0        msnbc.com         Gamecat93          0.92  18y4ejv   \n",
       "1  newrepublic.com        audiomuse1          0.93  18y3f93   \n",
       "2        slate.com         wenchette          0.97  18xxec5   \n",
       "3      nytimes.com  StandStillLaddie          0.92  18xw4gq   \n",
       "4     newsweek.com       vincevega87          0.98  18y80vn   \n",
       "\n",
       "                created_utc  subreddit  \n",
       "0  Wed Jan  3 20:38:17 2024  democrats  \n",
       "1  Wed Jan  3 19:48:29 2024  democrats  \n",
       "2  Wed Jan  3 15:19:27 2024  democrats  \n",
       "3  Wed Jan  3 14:28:20 2024  democrats  \n",
       "4  Thu Jan  4 00:13:25 2024  democrats  "
      ]
     },
     "execution_count": 4,
     "metadata": {},
     "output_type": "execute_result"
    }
   ],
   "source": [
    "# Read in data scraped from Reddit\n",
    "\n",
    "dvr = pd.read_csv('./datasets/rep_vs_dem.csv')\n",
    "dvr.head()"
   ]
  },
  {
   "cell_type": "code",
   "execution_count": 25,
   "id": "c4814982-0594-4865-bdc5-3571db9cb505",
   "metadata": {
    "tags": []
   },
   "outputs": [
    {
     "name": "stdout",
     "output_type": "stream",
     "text": [
      "<class 'pandas.core.frame.DataFrame'>\n",
      "RangeIndex: 1475 entries, 0 to 1474\n",
      "Data columns (total 8 columns):\n",
      " #   Column        Non-Null Count  Dtype  \n",
      "---  ------        --------------  -----  \n",
      " 0   title         1475 non-null   object \n",
      " 1   domain        1475 non-null   object \n",
      " 2   author        1475 non-null   object \n",
      " 3   upvote_ratio  1475 non-null   float64\n",
      " 4   id            1475 non-null   object \n",
      " 5   created_utc   1475 non-null   object \n",
      " 6   subreddit     1475 non-null   object \n",
      " 7   hour          1475 non-null   object \n",
      "dtypes: float64(1), object(7)\n",
      "memory usage: 92.3+ KB\n"
     ]
    }
   ],
   "source": [
    "# Get dataframe information\n",
    "\n",
    "dvr.info()"
   ]
  },
  {
   "cell_type": "code",
   "execution_count": 5,
   "id": "c2b3e49b-de5a-4e98-99b6-a48f9c2e7c27",
   "metadata": {
    "tags": []
   },
   "outputs": [
    {
     "data": {
      "text/plain": [
       "(1475, 8)"
      ]
     },
     "execution_count": 5,
     "metadata": {},
     "output_type": "execute_result"
    }
   ],
   "source": [
    "# Get total post count from webscrapes\n",
    "\n",
    "dvr.shape"
   ]
  },
  {
   "cell_type": "code",
   "execution_count": 9,
   "id": "0c1e3a27-5b7d-4d5e-a8c9-a1dc09910140",
   "metadata": {
    "tags": []
   },
   "outputs": [
    {
     "data": {
      "text/plain": [
       "(1475, 7)"
      ]
     },
     "execution_count": 9,
     "metadata": {},
     "output_type": "execute_result"
    }
   ],
   "source": [
    "# Drop unnecessary column 'Unnamed: 0'\n",
    "\n",
    "dvr.drop(columns = 'Unnamed: 0', inplace = True)\n",
    "dvr.shape"
   ]
  },
  {
   "cell_type": "code",
   "execution_count": 10,
   "id": "c8c5c01f-35af-4ec0-bba3-a6f29145d904",
   "metadata": {
    "tags": []
   },
   "outputs": [
    {
     "data": {
      "text/plain": [
       "title           0\n",
       "domain          0\n",
       "author          0\n",
       "upvote_ratio    0\n",
       "id              0\n",
       "created_utc     0\n",
       "subreddit       0\n",
       "dtype: int64"
      ]
     },
     "execution_count": 10,
     "metadata": {},
     "output_type": "execute_result"
    }
   ],
   "source": [
    "# Check for nulls in data\n",
    "\n",
    "dvr.isnull().sum()"
   ]
  },
  {
   "cell_type": "code",
   "execution_count": 9,
   "id": "7b6b3c2e-c383-4189-9d4d-887da6338008",
   "metadata": {
    "tags": []
   },
   "outputs": [
    {
     "data": {
      "text/plain": [
       "id\n",
       "18y4ejv    1\n",
       "18xmjxr    1\n",
       "18xxec5    1\n",
       "18xw4gq    1\n",
       "18y80vn    1\n",
       "          ..\n",
       "190gr5s    1\n",
       "190ag8l    1\n",
       "190051h    1\n",
       "190d1bh    1\n",
       "18zpxgp    1\n",
       "Name: count, Length: 1475, dtype: int64"
      ]
     },
     "execution_count": 9,
     "metadata": {},
     "output_type": "execute_result"
    }
   ],
   "source": [
    "# Verify duplicate rows have been dropped\n",
    "\n",
    "dvr['id'].value_counts().sort_values(ascending = False)"
   ]
  },
  {
   "cell_type": "code",
   "execution_count": 10,
   "id": "a6a03124-7bfc-487a-b313-f143932d178a",
   "metadata": {
    "tags": []
   },
   "outputs": [
    {
     "data": {
      "text/html": [
       "<div>\n",
       "<style scoped>\n",
       "    .dataframe tbody tr th:only-of-type {\n",
       "        vertical-align: middle;\n",
       "    }\n",
       "\n",
       "    .dataframe tbody tr th {\n",
       "        vertical-align: top;\n",
       "    }\n",
       "\n",
       "    .dataframe thead th {\n",
       "        text-align: right;\n",
       "    }\n",
       "</style>\n",
       "<table border=\"1\" class=\"dataframe\">\n",
       "  <thead>\n",
       "    <tr style=\"text-align: right;\">\n",
       "      <th></th>\n",
       "      <th>title</th>\n",
       "      <th>domain</th>\n",
       "      <th>author</th>\n",
       "      <th>upvote_ratio</th>\n",
       "      <th>id</th>\n",
       "      <th>created_utc</th>\n",
       "      <th>subreddit</th>\n",
       "    </tr>\n",
       "  </thead>\n",
       "  <tbody>\n",
       "    <tr>\n",
       "      <th>1470</th>\n",
       "      <td>Federal court rules even passive Jan. 6 protes...</td>\n",
       "      <td>hodastoresaudi.com</td>\n",
       "      <td>PsychologicalBell516</td>\n",
       "      <td>0.58</td>\n",
       "      <td>1905wjl</td>\n",
       "      <td>Sat Jan  6 10:04:26 2024</td>\n",
       "      <td>Republican</td>\n",
       "    </tr>\n",
       "    <tr>\n",
       "      <th>1471</th>\n",
       "      <td>TikTok · Matt The Welder</td>\n",
       "      <td>tiktok.com</td>\n",
       "      <td>RealMattTheWelder</td>\n",
       "      <td>0.60</td>\n",
       "      <td>190gr5s</td>\n",
       "      <td>Sat Jan  6 18:02:03 2024</td>\n",
       "      <td>Republican</td>\n",
       "    </tr>\n",
       "    <tr>\n",
       "      <th>1472</th>\n",
       "      <td>TikTok · Matt The Welder</td>\n",
       "      <td>tiktok.com</td>\n",
       "      <td>RealMattTheWelder</td>\n",
       "      <td>0.57</td>\n",
       "      <td>190ag8l</td>\n",
       "      <td>Sat Jan  6 13:18:19 2024</td>\n",
       "      <td>Republican</td>\n",
       "    </tr>\n",
       "    <tr>\n",
       "      <th>1473</th>\n",
       "      <td>Ex-AOC aide lined pockets with nearly $140K fr...</td>\n",
       "      <td>hodastoresaudi.com</td>\n",
       "      <td>PsychologicalBell516</td>\n",
       "      <td>0.68</td>\n",
       "      <td>190051h</td>\n",
       "      <td>Sat Jan  6 05:36:43 2024</td>\n",
       "      <td>Republican</td>\n",
       "    </tr>\n",
       "    <tr>\n",
       "      <th>1474</th>\n",
       "      <td>Lies versus Reality</td>\n",
       "      <td>i.redd.it</td>\n",
       "      <td>therealmaxxc</td>\n",
       "      <td>0.82</td>\n",
       "      <td>18zpxgp</td>\n",
       "      <td>Fri Jan  5 19:11:54 2024</td>\n",
       "      <td>Republican</td>\n",
       "    </tr>\n",
       "  </tbody>\n",
       "</table>\n",
       "</div>"
      ],
      "text/plain": [
       "                                                  title              domain  \\\n",
       "1470  Federal court rules even passive Jan. 6 protes...  hodastoresaudi.com   \n",
       "1471                           TikTok · Matt The Welder          tiktok.com   \n",
       "1472                           TikTok · Matt The Welder          tiktok.com   \n",
       "1473  Ex-AOC aide lined pockets with nearly $140K fr...  hodastoresaudi.com   \n",
       "1474                                Lies versus Reality           i.redd.it   \n",
       "\n",
       "                    author  upvote_ratio       id               created_utc  \\\n",
       "1470  PsychologicalBell516          0.58  1905wjl  Sat Jan  6 10:04:26 2024   \n",
       "1471     RealMattTheWelder          0.60  190gr5s  Sat Jan  6 18:02:03 2024   \n",
       "1472     RealMattTheWelder          0.57  190ag8l  Sat Jan  6 13:18:19 2024   \n",
       "1473  PsychologicalBell516          0.68  190051h  Sat Jan  6 05:36:43 2024   \n",
       "1474          therealmaxxc          0.82  18zpxgp  Fri Jan  5 19:11:54 2024   \n",
       "\n",
       "       subreddit  \n",
       "1470  Republican  \n",
       "1471  Republican  \n",
       "1472  Republican  \n",
       "1473  Republican  \n",
       "1474  Republican  "
      ]
     },
     "execution_count": 10,
     "metadata": {},
     "output_type": "execute_result"
    }
   ],
   "source": [
    "# Verify data has been read in properly to the last post\n",
    "\n",
    "dvr.tail()"
   ]
  },
  {
   "cell_type": "code",
   "execution_count": 11,
   "id": "46b32f30-ccb5-47a6-94d9-c16590b15a9b",
   "metadata": {
    "tags": []
   },
   "outputs": [
    {
     "data": {
      "text/plain": [
       "subreddit\n",
       "Republican    758\n",
       "democrats     717\n",
       "Name: count, dtype: int64"
      ]
     },
     "execution_count": 11,
     "metadata": {},
     "output_type": "execute_result"
    }
   ],
   "source": [
    "# identify number of posts per subreddit\n",
    "\n",
    "dvr['subreddit'].value_counts()"
   ]
  },
  {
   "cell_type": "code",
   "execution_count": 19,
   "id": "7e41d8ad-48b2-4a57-8082-e19c446ad0ff",
   "metadata": {
    "tags": []
   },
   "outputs": [
    {
     "name": "stdout",
     "output_type": "stream",
     "text": [
      "subreddit   author              \n",
      "Republican  intelligentreviews      510\n",
      "democrats   audiomuse1               46\n",
      "Republican  PsychologicalBell516     43\n",
      "            StedeBonnet1             40\n",
      "democrats   CuPride                  37\n",
      "                                   ... \n",
      "Republican  dr_perron                 1\n",
      "            donutloop                 1\n",
      "democrats   RealKlytus                1\n",
      "            Real_World123             1\n",
      "            zygorax                   1\n",
      "Name: author, Length: 253, dtype: int64\n"
     ]
    },
    {
     "data": {
      "text/plain": [
       "253"
      ]
     },
     "execution_count": 19,
     "metadata": {},
     "output_type": "execute_result"
    }
   ],
   "source": [
    "# Calculate top 50 posters with subreddit affiliation \n",
    "\n",
    "dvr_gb1 = dvr.groupby(['subreddit', 'author'])['author'].count().sort_values(ascending = False)\n",
    "print(dvr_gb1)\n",
    "len(dvr_gb1)"
   ]
  },
  {
   "cell_type": "markdown",
   "id": "2bb61b69-e63a-48f4-914f-60518b935595",
   "metadata": {},
   "source": [
    "#### Observation\n",
    "User 'intelligentreviews' is an outlier with 10x the posts as the next user.  Further research concluded that this is a legitimate account created 3 years ago posting to mainly conservative subreddits.  "
   ]
  },
  {
   "cell_type": "code",
   "execution_count": 13,
   "id": "6d389077-dc1b-428d-95d9-3ad417e8b6c4",
   "metadata": {
    "tags": []
   },
   "outputs": [
    {
     "name": "stdout",
     "output_type": "stream",
     "text": [
      "Unique Dem Posters: 188\n",
      "Unique Rep Posters: 65\n"
     ]
    }
   ],
   "source": [
    "# Find number of unique users per subreddit\n",
    "\n",
    "print(f\"Unique Dem Posters: {len(dvr.loc[dvr['subreddit'] == 'democrats', 'author'].value_counts())}\")\n",
    "print(f\"Unique Rep Posters: {len(dvr.loc[dvr['subreddit'] == 'Republican', 'author'].value_counts())}\")"
   ]
  },
  {
   "cell_type": "markdown",
   "id": "73315f3a-e9a8-4345-95c9-0046283b5752",
   "metadata": {},
   "source": [
    "#### Observation\n",
    "Despite having 1/3 the number of unique posters, the Republican subreddit has a higher number of posts.  This is due to the the super-poster 'intelligentreviews'.  There are 251 unique posters but the user breakdown by subreddit yields 253 posters so there are two users posting to both subreddits."
   ]
  },
  {
   "cell_type": "code",
   "execution_count": 21,
   "id": "b9830035-7918-4756-a9cf-f6a4c8856e72",
   "metadata": {
    "tags": []
   },
   "outputs": [
    {
     "name": "stdout",
     "output_type": "stream",
     "text": [
      "subreddit   domain            \n",
      "democrats   i.redd.it             107\n",
      "Republican  breitbart.com          91\n",
      "            dailywire.com          79\n",
      "            foxnews.com            79\n",
      "            redstate.com           77\n",
      "                                 ... \n",
      "democrats   floridadems.org         1\n",
      "            floridaphoenix.com      1\n",
      "Republican  newdiscourses.com       1\n",
      "            nbcnews.com             1\n",
      "            6abc.com                1\n",
      "Name: domain, Length: 261, dtype: int64\n"
     ]
    },
    {
     "data": {
      "text/plain": [
       "261"
      ]
     },
     "execution_count": 21,
     "metadata": {},
     "output_type": "execute_result"
    }
   ],
   "source": [
    "# Calculate top 50 'news' sources with subreddit affiliation \n",
    "\n",
    "dvr_gb2 = dvr.groupby(['subreddit', 'domain'])['domain'].count().sort_values(ascending = False)\n",
    "print(dvr_gb2)\n",
    "len(dvr_gb2)"
   ]
  },
  {
   "cell_type": "markdown",
   "id": "b7c1d18a-1e80-4367-a6ba-2db1bfaa231d",
   "metadata": {},
   "source": [
    "#### Observation\n",
    "Domain 'i.redd.it' is the leading domain.  Further research concluded that this is obviously not a news source but it is Reddits image hosting services.   "
   ]
  },
  {
   "cell_type": "code",
   "execution_count": 15,
   "id": "ab24cf58-4458-429b-a629-d97903b317fb",
   "metadata": {
    "tags": []
   },
   "outputs": [
    {
     "name": "stdout",
     "output_type": "stream",
     "text": [
      "Unique Dem Sources: 148\n",
      "Unique Rep Sources: 113\n"
     ]
    }
   ],
   "source": [
    "# Find number of unique sources per subreddit\n",
    "\n",
    "print(f\"Unique Dem Sources: {len(dvr.loc[dvr['subreddit'] == 'democrats', 'domain'].value_counts())}\")\n",
    "print(f\"Unique Rep Sources: {len(dvr.loc[dvr['subreddit'] == 'Republican', 'domain'].value_counts())}\")"
   ]
  },
  {
   "cell_type": "markdown",
   "id": "feb6255d-885f-4c09-952e-794b5643f86e",
   "metadata": {},
   "source": [
    "#### Observation\n",
    "Users on the Republican subreddit utilize fewer sources to post more content. There are 261 unique sources per the above filtering and also 261 unique sources per the breakdown per subreddit seen in the above groupby breakdown.  This illustrates two things, the partisan nature of media and how no one outlet was consumed by both sides, and that a simple list of liberal vs conservative outlets will suffice for partisan identification."
   ]
  },
  {
   "cell_type": "code",
   "execution_count": 16,
   "id": "cd097dbd-b0f5-4011-ab3f-318af9dc6d09",
   "metadata": {
    "tags": []
   },
   "outputs": [
    {
     "data": {
      "text/html": [
       "<div>\n",
       "<style scoped>\n",
       "    .dataframe tbody tr th:only-of-type {\n",
       "        vertical-align: middle;\n",
       "    }\n",
       "\n",
       "    .dataframe tbody tr th {\n",
       "        vertical-align: top;\n",
       "    }\n",
       "\n",
       "    .dataframe thead th {\n",
       "        text-align: right;\n",
       "    }\n",
       "</style>\n",
       "<table border=\"1\" class=\"dataframe\">\n",
       "  <thead>\n",
       "    <tr style=\"text-align: right;\">\n",
       "      <th></th>\n",
       "      <th>title</th>\n",
       "      <th>domain</th>\n",
       "      <th>author</th>\n",
       "      <th>upvote_ratio</th>\n",
       "      <th>id</th>\n",
       "      <th>created_utc</th>\n",
       "      <th>subreddit</th>\n",
       "    </tr>\n",
       "  </thead>\n",
       "  <tbody>\n",
       "    <tr>\n",
       "      <th>22</th>\n",
       "      <td>MAGA Republicans will get butthurt over litera...</td>\n",
       "      <td>i.redd.it</td>\n",
       "      <td>gomalley411</td>\n",
       "      <td>0.91</td>\n",
       "      <td>18wrx71</td>\n",
       "      <td>Tue Jan  2 07:25:21 2024</td>\n",
       "      <td>democrats</td>\n",
       "    </tr>\n",
       "    <tr>\n",
       "      <th>29</th>\n",
       "      <td>“What are the current predictions for the 2024...</td>\n",
       "      <td>i.redd.it</td>\n",
       "      <td>FrostWingDev</td>\n",
       "      <td>0.85</td>\n",
       "      <td>18x726l</td>\n",
       "      <td>Tue Jan  2 17:47:20 2024</td>\n",
       "      <td>democrats</td>\n",
       "    </tr>\n",
       "    <tr>\n",
       "      <th>30</th>\n",
       "      <td>Biden-Harris wins in 2023</td>\n",
       "      <td>i.redd.it</td>\n",
       "      <td>boardgame_goblin</td>\n",
       "      <td>0.95</td>\n",
       "      <td>18wu6om</td>\n",
       "      <td>Tue Jan  2 09:00:56 2024</td>\n",
       "      <td>democrats</td>\n",
       "    </tr>\n",
       "    <tr>\n",
       "      <th>32</th>\n",
       "      <td>It does exist</td>\n",
       "      <td>i.redd.it</td>\n",
       "      <td>goatious</td>\n",
       "      <td>0.81</td>\n",
       "      <td>18x6dt3</td>\n",
       "      <td>Tue Jan  2 17:16:36 2024</td>\n",
       "      <td>democrats</td>\n",
       "    </tr>\n",
       "    <tr>\n",
       "      <th>37</th>\n",
       "      <td>Real patriots</td>\n",
       "      <td>i.redd.it</td>\n",
       "      <td>emilyblunt2023</td>\n",
       "      <td>0.98</td>\n",
       "      <td>18wgxtg</td>\n",
       "      <td>Mon Jan  1 20:50:38 2024</td>\n",
       "      <td>democrats</td>\n",
       "    </tr>\n",
       "    <tr>\n",
       "      <th>...</th>\n",
       "      <td>...</td>\n",
       "      <td>...</td>\n",
       "      <td>...</td>\n",
       "      <td>...</td>\n",
       "      <td>...</td>\n",
       "      <td>...</td>\n",
       "      <td>...</td>\n",
       "    </tr>\n",
       "    <tr>\n",
       "      <th>1442</th>\n",
       "      <td>Trump is a traitor</td>\n",
       "      <td>i.redd.it</td>\n",
       "      <td>emilyblunt2023</td>\n",
       "      <td>0.95</td>\n",
       "      <td>190kn5q</td>\n",
       "      <td>Sat Jan  6 21:22:54 2024</td>\n",
       "      <td>democrats</td>\n",
       "    </tr>\n",
       "    <tr>\n",
       "      <th>1447</th>\n",
       "      <td>What can I do to help?</td>\n",
       "      <td>i.redd.it</td>\n",
       "      <td>WattsAndThoughts</td>\n",
       "      <td>0.95</td>\n",
       "      <td>1908xet</td>\n",
       "      <td>Sat Jan  6 12:13:00 2024</td>\n",
       "      <td>democrats</td>\n",
       "    </tr>\n",
       "    <tr>\n",
       "      <th>1449</th>\n",
       "      <td>Help BidenHQ get more followers and share thei...</td>\n",
       "      <td>i.redd.it</td>\n",
       "      <td>The_Green_Turkey</td>\n",
       "      <td>0.97</td>\n",
       "      <td>190agub</td>\n",
       "      <td>Sat Jan  6 13:19:05 2024</td>\n",
       "      <td>democrats</td>\n",
       "    </tr>\n",
       "    <tr>\n",
       "      <th>1450</th>\n",
       "      <td>Traitor Trump!</td>\n",
       "      <td>i.redd.it</td>\n",
       "      <td>emilyblunt2023</td>\n",
       "      <td>0.99</td>\n",
       "      <td>18zxnlv</td>\n",
       "      <td>Sat Jan  6 03:01:33 2024</td>\n",
       "      <td>democrats</td>\n",
       "    </tr>\n",
       "    <tr>\n",
       "      <th>1474</th>\n",
       "      <td>Lies versus Reality</td>\n",
       "      <td>i.redd.it</td>\n",
       "      <td>therealmaxxc</td>\n",
       "      <td>0.82</td>\n",
       "      <td>18zpxgp</td>\n",
       "      <td>Fri Jan  5 19:11:54 2024</td>\n",
       "      <td>Republican</td>\n",
       "    </tr>\n",
       "  </tbody>\n",
       "</table>\n",
       "<p>111 rows × 7 columns</p>\n",
       "</div>"
      ],
      "text/plain": [
       "                                                  title     domain  \\\n",
       "22    MAGA Republicans will get butthurt over litera...  i.redd.it   \n",
       "29    “What are the current predictions for the 2024...  i.redd.it   \n",
       "30                            Biden-Harris wins in 2023  i.redd.it   \n",
       "32                                        It does exist  i.redd.it   \n",
       "37                                        Real patriots  i.redd.it   \n",
       "...                                                 ...        ...   \n",
       "1442                                 Trump is a traitor  i.redd.it   \n",
       "1447                             What can I do to help?  i.redd.it   \n",
       "1449  Help BidenHQ get more followers and share thei...  i.redd.it   \n",
       "1450                                     Traitor Trump!  i.redd.it   \n",
       "1474                                Lies versus Reality  i.redd.it   \n",
       "\n",
       "                author  upvote_ratio       id               created_utc  \\\n",
       "22         gomalley411          0.91  18wrx71  Tue Jan  2 07:25:21 2024   \n",
       "29        FrostWingDev          0.85  18x726l  Tue Jan  2 17:47:20 2024   \n",
       "30    boardgame_goblin          0.95  18wu6om  Tue Jan  2 09:00:56 2024   \n",
       "32            goatious          0.81  18x6dt3  Tue Jan  2 17:16:36 2024   \n",
       "37      emilyblunt2023          0.98  18wgxtg  Mon Jan  1 20:50:38 2024   \n",
       "...                ...           ...      ...                       ...   \n",
       "1442    emilyblunt2023          0.95  190kn5q  Sat Jan  6 21:22:54 2024   \n",
       "1447  WattsAndThoughts          0.95  1908xet  Sat Jan  6 12:13:00 2024   \n",
       "1449  The_Green_Turkey          0.97  190agub  Sat Jan  6 13:19:05 2024   \n",
       "1450    emilyblunt2023          0.99  18zxnlv  Sat Jan  6 03:01:33 2024   \n",
       "1474      therealmaxxc          0.82  18zpxgp  Fri Jan  5 19:11:54 2024   \n",
       "\n",
       "       subreddit  \n",
       "22     democrats  \n",
       "29     democrats  \n",
       "30     democrats  \n",
       "32     democrats  \n",
       "37     democrats  \n",
       "...          ...  \n",
       "1442   democrats  \n",
       "1447   democrats  \n",
       "1449   democrats  \n",
       "1450   democrats  \n",
       "1474  Republican  \n",
       "\n",
       "[111 rows x 7 columns]"
      ]
     },
     "execution_count": 16,
     "metadata": {},
     "output_type": "execute_result"
    }
   ],
   "source": [
    "# Explore posts from top source 'i.redd.it'\n",
    "\n",
    "dvr.loc[dvr['domain'] == 'i.redd.it']"
   ]
  },
  {
   "cell_type": "markdown",
   "id": "438ee508-991d-4c46-863e-d93b9bf73895",
   "metadata": {},
   "source": [
    "#### Observation\n",
    "'i.redd.it' is Reddit's image hosting service.  These posts are largely image-based with little useful content for this NLP analysis."
   ]
  },
  {
   "cell_type": "code",
   "execution_count": 17,
   "id": "b023c8eb-a328-45e2-a07c-83354b6f9b83",
   "metadata": {
    "tags": []
   },
   "outputs": [
    {
     "data": {
      "text/html": [
       "<div>\n",
       "<style scoped>\n",
       "    .dataframe tbody tr th:only-of-type {\n",
       "        vertical-align: middle;\n",
       "    }\n",
       "\n",
       "    .dataframe tbody tr th {\n",
       "        vertical-align: top;\n",
       "    }\n",
       "\n",
       "    .dataframe thead th {\n",
       "        text-align: right;\n",
       "    }\n",
       "</style>\n",
       "<table border=\"1\" class=\"dataframe\">\n",
       "  <thead>\n",
       "    <tr style=\"text-align: right;\">\n",
       "      <th></th>\n",
       "      <th>count</th>\n",
       "      <th>mean</th>\n",
       "      <th>std</th>\n",
       "      <th>min</th>\n",
       "      <th>25%</th>\n",
       "      <th>50%</th>\n",
       "      <th>75%</th>\n",
       "      <th>max</th>\n",
       "    </tr>\n",
       "    <tr>\n",
       "      <th>subreddit</th>\n",
       "      <th></th>\n",
       "      <th></th>\n",
       "      <th></th>\n",
       "      <th></th>\n",
       "      <th></th>\n",
       "      <th></th>\n",
       "      <th></th>\n",
       "      <th></th>\n",
       "    </tr>\n",
       "  </thead>\n",
       "  <tbody>\n",
       "    <tr>\n",
       "      <th>Republican</th>\n",
       "      <td>758.0</td>\n",
       "      <td>0.787625</td>\n",
       "      <td>0.099329</td>\n",
       "      <td>0.21</td>\n",
       "      <td>0.74</td>\n",
       "      <td>0.80</td>\n",
       "      <td>0.85</td>\n",
       "      <td>1.0</td>\n",
       "    </tr>\n",
       "    <tr>\n",
       "      <th>democrats</th>\n",
       "      <td>717.0</td>\n",
       "      <td>0.951088</td>\n",
       "      <td>0.059153</td>\n",
       "      <td>0.35</td>\n",
       "      <td>0.94</td>\n",
       "      <td>0.97</td>\n",
       "      <td>0.98</td>\n",
       "      <td>1.0</td>\n",
       "    </tr>\n",
       "  </tbody>\n",
       "</table>\n",
       "</div>"
      ],
      "text/plain": [
       "            count      mean       std   min   25%   50%   75%  max\n",
       "subreddit                                                         \n",
       "Republican  758.0  0.787625  0.099329  0.21  0.74  0.80  0.85  1.0\n",
       "democrats   717.0  0.951088  0.059153  0.35  0.94  0.97  0.98  1.0"
      ]
     },
     "execution_count": 17,
     "metadata": {},
     "output_type": "execute_result"
    }
   ],
   "source": [
    "# Generate stats on upvote_ratio column\n",
    "\n",
    "dvr.groupby('subreddit')['upvote_ratio'].describe()"
   ]
  },
  {
   "cell_type": "markdown",
   "id": "64ac2b51-77f9-46d7-a47c-0be0e8e90e89",
   "metadata": {},
   "source": [
    "#### Observation\n",
    "Comparing the avereage 'upvote_ratio' bewtween the two subreddits, it may be inferred that there is a higher level of disagreement in the 'Republican' subreddit compared to the 'democrats' subreddit."
   ]
  },
  {
   "cell_type": "code",
   "execution_count": 11,
   "id": "a638490c-602f-4a55-9cf6-c41419f88ae8",
   "metadata": {
    "scrolled": true,
    "tags": []
   },
   "outputs": [
    {
     "name": "stderr",
     "output_type": "stream",
     "text": [
      "/var/folders/qy/nr1f_j6j7nx50jtp9tqqgftc0000gn/T/ipykernel_45771/408124558.py:6: SettingWithCopyWarning: \n",
      "A value is trying to be set on a copy of a slice from a DataFrame\n",
      "\n",
      "See the caveats in the documentation: https://pandas.pydata.org/pandas-docs/stable/user_guide/indexing.html#returning-a-view-versus-a-copy\n",
      "  dvr['hour'][i] = (((time.split())[3]).split(':')[0])\n"
     ]
    }
   ],
   "source": [
    "# Extract hour from 'created_utc' column for later analysis\n",
    "\n",
    "dvr['hour'] = 0\n",
    "i = 0\n",
    "for time in dvr['created_utc']:\n",
    "    dvr['hour'][i] = (((time.split())[3]).split(':')[0])\n",
    "    i += 1"
   ]
  },
  {
   "cell_type": "code",
   "execution_count": 12,
   "id": "66069896-6474-49b6-9555-f9699870b9de",
   "metadata": {
    "tags": []
   },
   "outputs": [
    {
     "data": {
      "text/html": [
       "<div>\n",
       "<style scoped>\n",
       "    .dataframe tbody tr th:only-of-type {\n",
       "        vertical-align: middle;\n",
       "    }\n",
       "\n",
       "    .dataframe tbody tr th {\n",
       "        vertical-align: top;\n",
       "    }\n",
       "\n",
       "    .dataframe thead th {\n",
       "        text-align: right;\n",
       "    }\n",
       "</style>\n",
       "<table border=\"1\" class=\"dataframe\">\n",
       "  <thead>\n",
       "    <tr style=\"text-align: right;\">\n",
       "      <th></th>\n",
       "      <th>title</th>\n",
       "      <th>domain</th>\n",
       "      <th>author</th>\n",
       "      <th>upvote_ratio</th>\n",
       "      <th>id</th>\n",
       "      <th>created_utc</th>\n",
       "      <th>subreddit</th>\n",
       "      <th>hour</th>\n",
       "    </tr>\n",
       "  </thead>\n",
       "  <tbody>\n",
       "    <tr>\n",
       "      <th>0</th>\n",
       "      <td>Taylor Swift could save Joe Biden in 2024. No,...</td>\n",
       "      <td>msnbc.com</td>\n",
       "      <td>Gamecat93</td>\n",
       "      <td>0.92</td>\n",
       "      <td>18y4ejv</td>\n",
       "      <td>Wed Jan  3 20:38:17 2024</td>\n",
       "      <td>democrats</td>\n",
       "      <td>20</td>\n",
       "    </tr>\n",
       "    <tr>\n",
       "      <th>1</th>\n",
       "      <td>The Polls Prove It: Many Republicans Love Fascism</td>\n",
       "      <td>newrepublic.com</td>\n",
       "      <td>audiomuse1</td>\n",
       "      <td>0.93</td>\n",
       "      <td>18y3f93</td>\n",
       "      <td>Wed Jan  3 19:48:29 2024</td>\n",
       "      <td>democrats</td>\n",
       "      <td>19</td>\n",
       "    </tr>\n",
       "    <tr>\n",
       "      <th>2</th>\n",
       "      <td>A Far-Right Court Just Admitted a Truth That A...</td>\n",
       "      <td>slate.com</td>\n",
       "      <td>wenchette</td>\n",
       "      <td>0.97</td>\n",
       "      <td>18xxec5</td>\n",
       "      <td>Wed Jan  3 15:19:27 2024</td>\n",
       "      <td>democrats</td>\n",
       "      <td>15</td>\n",
       "    </tr>\n",
       "    <tr>\n",
       "      <th>3</th>\n",
       "      <td>Trump Asks Supreme Court to Keep Him on Colora...</td>\n",
       "      <td>nytimes.com</td>\n",
       "      <td>StandStillLaddie</td>\n",
       "      <td>0.92</td>\n",
       "      <td>18xw4gq</td>\n",
       "      <td>Wed Jan  3 14:28:20 2024</td>\n",
       "      <td>democrats</td>\n",
       "      <td>14</td>\n",
       "    </tr>\n",
       "    <tr>\n",
       "      <th>4</th>\n",
       "      <td>Donald Trump \"missing\" from Nevada ballot enra...</td>\n",
       "      <td>newsweek.com</td>\n",
       "      <td>vincevega87</td>\n",
       "      <td>0.98</td>\n",
       "      <td>18y80vn</td>\n",
       "      <td>Thu Jan  4 00:13:25 2024</td>\n",
       "      <td>democrats</td>\n",
       "      <td>00</td>\n",
       "    </tr>\n",
       "  </tbody>\n",
       "</table>\n",
       "</div>"
      ],
      "text/plain": [
       "                                               title           domain  \\\n",
       "0  Taylor Swift could save Joe Biden in 2024. No,...        msnbc.com   \n",
       "1  The Polls Prove It: Many Republicans Love Fascism  newrepublic.com   \n",
       "2  A Far-Right Court Just Admitted a Truth That A...        slate.com   \n",
       "3  Trump Asks Supreme Court to Keep Him on Colora...      nytimes.com   \n",
       "4  Donald Trump \"missing\" from Nevada ballot enra...     newsweek.com   \n",
       "\n",
       "             author  upvote_ratio       id               created_utc  \\\n",
       "0         Gamecat93          0.92  18y4ejv  Wed Jan  3 20:38:17 2024   \n",
       "1        audiomuse1          0.93  18y3f93  Wed Jan  3 19:48:29 2024   \n",
       "2         wenchette          0.97  18xxec5  Wed Jan  3 15:19:27 2024   \n",
       "3  StandStillLaddie          0.92  18xw4gq  Wed Jan  3 14:28:20 2024   \n",
       "4       vincevega87          0.98  18y80vn  Thu Jan  4 00:13:25 2024   \n",
       "\n",
       "   subreddit hour  \n",
       "0  democrats   20  \n",
       "1  democrats   19  \n",
       "2  democrats   15  \n",
       "3  democrats   14  \n",
       "4  democrats   00  "
      ]
     },
     "execution_count": 12,
     "metadata": {},
     "output_type": "execute_result"
    }
   ],
   "source": [
    "dvr.head()"
   ]
  },
  {
   "cell_type": "code",
   "execution_count": 13,
   "id": "26ba8618-4bc8-4536-8854-10259dff856c",
   "metadata": {
    "tags": []
   },
   "outputs": [],
   "source": [
    "# Create rep and dem subsets for barplot generation\n",
    "\n",
    "rep = pd.DataFrame(dvr.loc[dvr['subreddit'] == 'Republican','hour'].value_counts().sort_index())\n",
    "dem = pd.DataFrame(dvr.loc[dvr['subreddit'] == 'democrats','hour'].value_counts().sort_index())"
   ]
  },
  {
   "cell_type": "code",
   "execution_count": 15,
   "id": "64a14fdd-a19b-415c-8f4f-84ec32b08253",
   "metadata": {
    "tags": []
   },
   "outputs": [
    {
     "data": {
      "image/png": "[encoded data removed]",
      "text/plain": [
       "<Figure size 640x480 with 1 Axes>"
      ]
     },
     "metadata": {},
     "output_type": "display_data"
    }
   ],
   "source": [
    "# Generate posts/hour barplot from 'Republican' subreddit\n",
    "\n",
    "sns.barplot(x = rep.index, y = 'count', data = rep)\n",
    "plt.title('Republican Subreddit Posts/Hour');"
   ]
  },
  {
   "cell_type": "markdown",
   "id": "05a2ad46-5ea0-4512-a71e-9a18583d3351",
   "metadata": {},
   "source": [
    "#### Observation\n",
    "Posts in the 'Republican' subreddit start in earnest in the 0400 hour increasing gradually till 1600 afterwhich it begins to taper off quickly. The spikes at 0500 and 0800 are possibly due to super-poster 'dumps'."
   ]
  },
  {
   "cell_type": "code",
   "execution_count": 16,
   "id": "e4a2820c-3acf-4b97-94be-828b832252f4",
   "metadata": {
    "tags": []
   },
   "outputs": [
    {
     "data": {
      "image/png": "[encoded data removed]",
      "text/plain": [
       "<Figure size 640x480 with 1 Axes>"
      ]
     },
     "metadata": {},
     "output_type": "display_data"
    }
   ],
   "source": [
    "# Generate posts/hour barplot from 'democrats' subreddit\n",
    "\n",
    "sns.barplot(x = dem.index, y = 'count', data = dem)\n",
    "plt.title('Democrat Subreddit Posts/Hour');"
   ]
  },
  {
   "cell_type": "markdown",
   "id": "163162a3-3c51-48f8-93bc-2ac094520653",
   "metadata": {},
   "source": [
    "#### Observation\n",
    "Posts in the 'democrats' subreddit start in earnest in the 0400 hour increasing quickly till 0800 afterwhich it begins to taper off gradually till night time. After lunch and dinner are popular posting times as demonstrated by the spikes at 1400 and 2000."
   ]
  }
 ],
 "metadata": {
  "kernelspec": {
   "display_name": "Python 3 (ipykernel)",
   "language": "python",
   "name": "python3"
  },
  "language_info": {
   "codemirror_mode": {
    "name": "ipython",
    "version": 3
   },
   "file_extension": ".py",
   "mimetype": "text/x-python",
   "name": "python",
   "nbconvert_exporter": "python",
   "pygments_lexer": "ipython3",
   "version": "3.11.5"
  }
 },
 "nbformat": 4,
 "nbformat_minor": 5
}
